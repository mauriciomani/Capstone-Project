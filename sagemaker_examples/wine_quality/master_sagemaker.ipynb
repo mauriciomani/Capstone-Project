{
 "cells": [
  {
   "cell_type": "markdown",
   "metadata": {},
   "source": [
    "## Connecting Sagemaker models to LAMBDA and API GATEWAY\n",
    "This notebook will guide you to deploy you **Sagmaker** model in a serverless mode, using **Lambda** and **API Gateway** AWS microservcie. Instead of using a Sagemaker built-in algorithm we are going to use a the **scikit-learn framework**, first using endpoint mode to test Lambda and API Gateway acrhitecture and the batch transform."
   ]
  },
  {
   "cell_type": "markdown",
   "metadata": {},
   "source": [
    "### WINE QUALITY\n",
    "I am goint to use the wine quality dataset, that aims you to predict the quality of a wine using around 11 numerical variables. There are no missing values and we just want to test Scikit-learn framework with endpoint and batch transform modes."
   ]
  },
  {
   "cell_type": "code",
   "execution_count": 2,
   "metadata": {},
   "outputs": [],
   "source": [
    "import pandas as pd\n",
    "import numpy as np\n",
    "\n",
    "import sagemaker\n",
    "from sagemaker import get_execution_role\n",
    "from sagemaker.sklearn.estimator import SKLearn\n",
    "import io\n",
    "import boto3\n",
    "\n",
    "sagemaker_session = sagemaker.Session()\n",
    "role = get_execution_role()"
   ]
  },
  {
   "cell_type": "code",
   "execution_count": 7,
   "metadata": {},
   "outputs": [],
   "source": [
    "df = pd.read_csv(\"winequality.csv\")"
   ]
  },
  {
   "cell_type": "code",
   "execution_count": 4,
   "metadata": {},
   "outputs": [
    {
     "data": {
      "text/html": [
       "<div>\n",
       "<style scoped>\n",
       "    .dataframe tbody tr th:only-of-type {\n",
       "        vertical-align: middle;\n",
       "    }\n",
       "\n",
       "    .dataframe tbody tr th {\n",
       "        vertical-align: top;\n",
       "    }\n",
       "\n",
       "    .dataframe thead th {\n",
       "        text-align: right;\n",
       "    }\n",
       "</style>\n",
       "<table border=\"1\" class=\"dataframe\">\n",
       "  <thead>\n",
       "    <tr style=\"text-align: right;\">\n",
       "      <th></th>\n",
       "      <th>fixed acidity</th>\n",
       "      <th>volatile acidity</th>\n",
       "      <th>citric acid</th>\n",
       "      <th>residual sugar</th>\n",
       "      <th>chlorides</th>\n",
       "      <th>free sulfur dioxide</th>\n",
       "      <th>total sulfur dioxide</th>\n",
       "      <th>density</th>\n",
       "      <th>pH</th>\n",
       "      <th>sulphates</th>\n",
       "      <th>alcohol</th>\n",
       "      <th>quality</th>\n",
       "    </tr>\n",
       "  </thead>\n",
       "  <tbody>\n",
       "    <tr>\n",
       "      <th>0</th>\n",
       "      <td>7.4</td>\n",
       "      <td>0.70</td>\n",
       "      <td>0.00</td>\n",
       "      <td>1.9</td>\n",
       "      <td>0.076</td>\n",
       "      <td>11.0</td>\n",
       "      <td>34.0</td>\n",
       "      <td>0.9978</td>\n",
       "      <td>3.51</td>\n",
       "      <td>0.56</td>\n",
       "      <td>9.4</td>\n",
       "      <td>5</td>\n",
       "    </tr>\n",
       "    <tr>\n",
       "      <th>1</th>\n",
       "      <td>7.8</td>\n",
       "      <td>0.88</td>\n",
       "      <td>0.00</td>\n",
       "      <td>2.6</td>\n",
       "      <td>0.098</td>\n",
       "      <td>25.0</td>\n",
       "      <td>67.0</td>\n",
       "      <td>0.9968</td>\n",
       "      <td>3.20</td>\n",
       "      <td>0.68</td>\n",
       "      <td>9.8</td>\n",
       "      <td>5</td>\n",
       "    </tr>\n",
       "    <tr>\n",
       "      <th>2</th>\n",
       "      <td>7.8</td>\n",
       "      <td>0.76</td>\n",
       "      <td>0.04</td>\n",
       "      <td>2.3</td>\n",
       "      <td>0.092</td>\n",
       "      <td>15.0</td>\n",
       "      <td>54.0</td>\n",
       "      <td>0.9970</td>\n",
       "      <td>3.26</td>\n",
       "      <td>0.65</td>\n",
       "      <td>9.8</td>\n",
       "      <td>5</td>\n",
       "    </tr>\n",
       "    <tr>\n",
       "      <th>3</th>\n",
       "      <td>11.2</td>\n",
       "      <td>0.28</td>\n",
       "      <td>0.56</td>\n",
       "      <td>1.9</td>\n",
       "      <td>0.075</td>\n",
       "      <td>17.0</td>\n",
       "      <td>60.0</td>\n",
       "      <td>0.9980</td>\n",
       "      <td>3.16</td>\n",
       "      <td>0.58</td>\n",
       "      <td>9.8</td>\n",
       "      <td>6</td>\n",
       "    </tr>\n",
       "    <tr>\n",
       "      <th>4</th>\n",
       "      <td>7.4</td>\n",
       "      <td>0.70</td>\n",
       "      <td>0.00</td>\n",
       "      <td>1.9</td>\n",
       "      <td>0.076</td>\n",
       "      <td>11.0</td>\n",
       "      <td>34.0</td>\n",
       "      <td>0.9978</td>\n",
       "      <td>3.51</td>\n",
       "      <td>0.56</td>\n",
       "      <td>9.4</td>\n",
       "      <td>5</td>\n",
       "    </tr>\n",
       "  </tbody>\n",
       "</table>\n",
       "</div>"
      ],
      "text/plain": [
       "   fixed acidity  volatile acidity  citric acid  residual sugar  chlorides  \\\n",
       "0            7.4              0.70         0.00             1.9      0.076   \n",
       "1            7.8              0.88         0.00             2.6      0.098   \n",
       "2            7.8              0.76         0.04             2.3      0.092   \n",
       "3           11.2              0.28         0.56             1.9      0.075   \n",
       "4            7.4              0.70         0.00             1.9      0.076   \n",
       "\n",
       "   free sulfur dioxide  total sulfur dioxide  density    pH  sulphates  \\\n",
       "0                 11.0                  34.0   0.9978  3.51       0.56   \n",
       "1                 25.0                  67.0   0.9968  3.20       0.68   \n",
       "2                 15.0                  54.0   0.9970  3.26       0.65   \n",
       "3                 17.0                  60.0   0.9980  3.16       0.58   \n",
       "4                 11.0                  34.0   0.9978  3.51       0.56   \n",
       "\n",
       "   alcohol  quality  \n",
       "0      9.4        5  \n",
       "1      9.8        5  \n",
       "2      9.8        5  \n",
       "3      9.8        6  \n",
       "4      9.4        5  "
      ]
     },
     "execution_count": 4,
     "metadata": {},
     "output_type": "execute_result"
    }
   ],
   "source": [
    "df.head()"
   ]
  },
  {
   "cell_type": "code",
   "execution_count": 5,
   "metadata": {},
   "outputs": [
    {
     "data": {
      "text/plain": [
       "fixed acidity           0\n",
       "volatile acidity        0\n",
       "citric acid             0\n",
       "residual sugar          0\n",
       "chlorides               0\n",
       "free sulfur dioxide     0\n",
       "total sulfur dioxide    0\n",
       "density                 0\n",
       "pH                      0\n",
       "sulphates               0\n",
       "alcohol                 0\n",
       "quality                 0\n",
       "dtype: int64"
      ]
     },
     "execution_count": 5,
     "metadata": {},
     "output_type": "execute_result"
    }
   ],
   "source": [
    "#No null values!\n",
    "df.isnull().sum()"
   ]
  },
  {
   "cell_type": "code",
   "execution_count": 27,
   "metadata": {},
   "outputs": [],
   "source": [
    "#Make sure our target variable is our first value. To make more sensego to script_winequality python files.\n",
    "df = df[['quality', 'fixed acidity', 'volatile acidity', 'citric acid', 'residual sugar', 'chlorides',\n",
    "    'free sulfur dioxide', 'total sulfur dioxide', 'density','pH', 'sulphates', 'alcohol']]"
   ]
  },
  {
   "cell_type": "code",
   "execution_count": 10,
   "metadata": {},
   "outputs": [],
   "source": [
    "#for batch transform test.I will download locally and upload manually to input path on s3.\n",
    "#tryouts/input/data\n",
    "df.iloc[:,1:].to_csv(\"test.csv\", header = None, index = None)"
   ]
  },
  {
   "cell_type": "code",
   "execution_count": 4,
   "metadata": {},
   "outputs": [],
   "source": [
    "#Save in sagemaker notebooks space to later upload to S3\n",
    "df.to_csv(\"train.csv\", header = None, index = None)"
   ]
  },
  {
   "cell_type": "code",
   "execution_count": 60,
   "metadata": {},
   "outputs": [],
   "source": [
    "#This will store data in the default bucket\n",
    "train_input = sagemaker_session.upload_data(\"train.csv\", key_prefix=\"tryouts/input/data/train\")"
   ]
  },
  {
   "cell_type": "code",
   "execution_count": 3,
   "metadata": {},
   "outputs": [],
   "source": [
    "#https://sagemaker.readthedocs.io/en/stable/frameworks/sklearn/using_sklearn.html\n",
    "FRAMEWORK_VERSION = \"0.23-1\"\n",
    "script_path = 'script_winequality_batch_transform.py'\n",
    "\n",
    "#specify the hyperparamters that were defined in script_path\n",
    "#output path is were you will store the model. This will be called whrn batch transform\n",
    "sklearn_batch = SKLearn(\n",
    "    entry_point=script_path,\n",
    "    framework_version=FRAMEWORK_VERSION,\n",
    "    output_path = 's3://sagemaker-us-east-1-563718358426/tryouts/model',    \n",
    "    train_instance_type=\"ml.m5.large\",\n",
    "    role=role,\n",
    "    sagemaker_session=sagemaker_session,\n",
    "    hyperparameters={'alpha' : 0.8, \n",
    "                     \"fit_intercept\" : True,\n",
    "                     \"max_iter\" : 1000,\n",
    "                     \"random_state\" : 12})"
   ]
  },
  {
   "cell_type": "code",
   "execution_count": null,
   "metadata": {},
   "outputs": [],
   "source": [
    "#I am not specifying the name of the file, sice it has been specified in script file\n",
    "sklearn_batch.fit({'train': \"s3://sagemaker-us-east-1-563718358426/tryouts/input/data/train\"})"
   ]
  },
  {
   "cell_type": "code",
   "execution_count": 5,
   "metadata": {},
   "outputs": [
    {
     "name": "stderr",
     "output_type": "stream",
     "text": [
      "Parameter image will be renamed to image_uri in SageMaker Python SDK v2.\n"
     ]
    }
   ],
   "source": [
    "#this for batch transform\n",
    "#I am specifying the ouput path, were predictions will be stored\n",
    "transformer = sklearn_batch.transformer(instance_count=1, instance_type=\"ml.m5.large\", output_path='s3://sagemaker-us-east-1-563718358426/tryouts/output')"
   ]
  },
  {
   "cell_type": "code",
   "execution_count": null,
   "metadata": {
    "scrolled": true
   },
   "outputs": [],
   "source": [
    "#if you want to specify the name use job_name=\"name_of_job\"\n",
    "transformer.transform(\"s3://sagemaker-us-east-1-563718358426/tryouts/input/data/test.csv\", content_type='text/csv', split_type='Line')\n",
    "transformer.wait()"
   ]
  },
  {
   "cell_type": "markdown",
   "metadata": {},
   "source": [
    "### Go to tryouts/output and you will find a test.csv.out file with the predictions\n",
    "#### After that is recommended to delete the files on S3. You can reuse the model and deploy the enpoint.\n",
    "#### we will not reuse but retrain the model."
   ]
  },
  {
   "cell_type": "code",
   "execution_count": 21,
   "metadata": {},
   "outputs": [],
   "source": [
    "#https://sagemaker.readthedocs.io/en/stable/frameworks/sklearn/using_sklearn.html\n",
    "FRAMEWORK_VERSION = \"0.23-1\"\n",
    "script_path = 'script_winequality_endpoint.py'\n",
    "\n",
    "sklearn_endpoint = SKLearn(\n",
    "    entry_point=script_path,\n",
    "    framework_version=FRAMEWORK_VERSION,\n",
    "    output_path = 's3://sagemaker-us-east-1-563718358426/tryouts/model',    \n",
    "    train_instance_type=\"ml.m5.large\",\n",
    "    role=role,\n",
    "    sagemaker_session=sagemaker_session,\n",
    "    hyperparameters={'alpha' : 0.8, \n",
    "                     \"fit_intercept\" : True,\n",
    "                     \"max_iter\" : 1000,\n",
    "                     \"random_state\" : 12})"
   ]
  },
  {
   "cell_type": "code",
   "execution_count": null,
   "metadata": {},
   "outputs": [],
   "source": [
    "sklearn_endpoint.fit({'train': \"s3://sagemaker-us-east-1-563718358426/tryouts/input/data/train\"})"
   ]
  },
  {
   "cell_type": "code",
   "execution_count": 26,
   "metadata": {},
   "outputs": [
    {
     "name": "stderr",
     "output_type": "stream",
     "text": [
      "Parameter image will be renamed to image_uri in SageMaker Python SDK v2.\n",
      "Using already existing model: sagemaker-scikit-learn-2020-09-12-21-13-48-175\n"
     ]
    },
    {
     "name": "stdout",
     "output_type": "stream",
     "text": [
      "-----------------!"
     ]
    }
   ],
   "source": [
    "#You can check your model inside the inference --> Model section.\n",
    "#And check the endpoint inside the Endpoints section\n",
    "predictor = sklearn_endpoint.deploy(initial_instance_count=1, instance_type=\"ml.m5.large\")"
   ]
  },
  {
   "cell_type": "code",
   "execution_count": 30,
   "metadata": {},
   "outputs": [
    {
     "data": {
      "text/plain": [
       "[7.8, 0.76, 0.04, 2.3, 0.092, 15.0, 54.0, 0.997, 3.26, 0.65, 9.8]"
      ]
     },
     "execution_count": 30,
     "metadata": {},
     "output_type": "execute_result"
    }
   ],
   "source": [
    "#You can try df.values for whole batch\n",
    "list(df.iloc[1, 1:])"
   ]
  },
  {
   "cell_type": "code",
   "execution_count": 34,
   "metadata": {},
   "outputs": [],
   "source": [
    "#Since we are using input_fn in our script_winequality file we cannot use predictor.predict. \n",
    "#If want so do not use input_fn and call:\n",
    "predictor.predict(data = list(df.iloc[1, 1:]))"
   ]
  },
  {
   "cell_type": "markdown",
   "metadata": {},
   "source": [
    "### Since our endpoint will accept csv type file on Bytes format. Use the following fucntion to test it."
   ]
  },
  {
   "cell_type": "code",
   "execution_count": 35,
   "metadata": {},
   "outputs": [],
   "source": [
    "def to_csv(_list):\n",
    "    csv = io.BytesIO()\n",
    "    np.savetxt(csv, _list, delimiter=',', fmt='%g')\n",
    "    return csv.getvalue().decode().rstrip()"
   ]
  },
  {
   "cell_type": "code",
   "execution_count": 162,
   "metadata": {},
   "outputs": [
    {
     "data": {
      "text/plain": [
       "'7.8,0.5,0.3,1.9,0.075,8,22,0.9959,3.31,0.56,10.4'"
      ]
     },
     "execution_count": 162,
     "metadata": {},
     "output_type": "execute_result"
    }
   ],
   "source": [
    "#test the observation 100.\n",
    "to_csv([list(df.iloc[100, 1:])])"
   ]
  },
  {
   "cell_type": "code",
   "execution_count": 36,
   "metadata": {},
   "outputs": [],
   "source": [
    "#Use runtime sagemaker from boto3.Same logic will be used in lambda file.\n",
    "runtime= boto3.client('runtime.sagemaker')\n",
    "\n",
    "#Invoke endpoint for EndpointName: copy and paste name from endpoint\n",
    "#In Body paste the to_csv output, or simply to_csv([list(df.iloc[100, 1:])])\n",
    "response = runtime.invoke_endpoint(EndpointName=\"sagemaker-scikit-learn-2020-09-12-21-13-48-175\",\n",
    "                                   ContentType='text/csv',\n",
    "                                   Body=\"7.8,0.76,0.04,2.3,0.092,15,54,0.997,3.26,0.65,9.8\")"
   ]
  },
  {
   "cell_type": "code",
   "execution_count": 37,
   "metadata": {},
   "outputs": [
    {
     "data": {
      "text/plain": [
       "'[5.60775418662084]'"
      ]
     },
     "execution_count": 37,
     "metadata": {},
     "output_type": "execute_result"
    }
   ],
   "source": [
    "#this the output format: same in lambda\n",
    "response[\"Body\"].read().decode()"
   ]
  },
  {
   "cell_type": "markdown",
   "metadata": {},
   "source": [
    "### This the Lambda function we will use to POST in API_SAGEMAKER"
   ]
  },
  {
   "cell_type": "code",
   "execution_count": 25,
   "metadata": {},
   "outputs": [
    {
     "name": "stdout",
     "output_type": "stream",
     "text": [
      "import os\n",
      "import io\n",
      "import boto3\n",
      "import json\n",
      "import csv\n",
      "\n",
      "# I Create the variable called API_SAGEMAKER and as value de saagemaker endpoint\n",
      "api_sagemaker = os.environ['API_SAGEMAKER']\n",
      "#with te following line you can later invoke sagemaker endpoint\n",
      "runtime= boto3.client('runtime.sagemaker')\n",
      "\n",
      "#when you create a lamnda function you have to specify a lambda handler.And basically is executed when lambda invokes de code\n",
      "def lambda_handler(event, context):\n",
      "    print(\"Received event: \" + json.dumps(event, indent=2))\n",
      "    \n",
      "    #make sure that received data is converted to json format\n",
      "    data = json.loads(json.dumps(event))\n",
      "    #extract what is inside data key\n",
      "    payload = data['data']\n",
      "    print(payload)\n",
      "    \n",
      "    response = runtime.invoke_endpoint(EndpointName=api_sagemaker,\n",
      "                                       ContentType='text/csv',\n",
      "                                       Body=payload)\n",
      "    print('Initializing!')\n",
      "    print(response)\n",
      "    result = json.loads(response['Body'].read().decode())\n",
      "    print('Wine quality is:')\n",
      "    print(result)\n",
      "    #since it will return an array, extract the first element\n",
      "    pred = int(result[0])\n",
      "    # If prediction is bigger than 5 then \"wine is good\" output: this was completely arbitrary.\n",
      "    predicted_label = 'Wine is good' if pred > 5 else 'Bad quality wine' \n",
      "    \n",
      "    return predicted_label"
     ]
    }
   ],
   "source": [
    "!cat lambda_function.py"
   ]
  },
  {
   "cell_type": "markdown",
   "metadata": {},
   "source": [
    "## Search for Lambda service \n",
    "### Create a Lambda function!\n",
    "#### Click on \"create function\" and then \"Author from scratch\"\n",
    "I will call the lambda function QUALITY (since we are testing wine quality)<br>\n",
    "And Runtime select Python 3<br>"
   ]
  },
  {
   "cell_type": "markdown",
   "metadata": {},
   "source": [
    "![creating-lambda](_lambda-create-function.png)"
   ]
  },
  {
   "cell_type": "markdown",
   "metadata": {},
   "source": [
    "Once created, search for **enviroment variables** and add one. I will call the enviroment variable **Key** \"API_SAGEMAKER\" and paste on **Value** the name of the endpoint: \"sagemaker-scikit-learn-2020-09-12-21-13-48-175\""
   ]
  },
  {
   "cell_type": "markdown",
   "metadata": {},
   "source": [
    "![creating-lambda](lambda_variables.png)"
   ]
  },
  {
   "cell_type": "markdown",
   "metadata": {},
   "source": [
    "## Go to API Gateway\n",
    "### Then go to CREATE API\n",
    "Choose the REST protocol and create new API. I am calling mine quality_api"
   ]
  },
  {
   "cell_type": "markdown",
   "metadata": {},
   "source": [
    "![creating-lambda](API_GATEWAY_creation.png)"
   ]
  },
  {
   "cell_type": "markdown",
   "metadata": {},
   "source": [
    "# Connecting LAMBDA AND API GATEWAY\n",
    "After that go to actions and create a Method POST. Select Lambda function and type the name of the, in my case: QUALITY\n",
    "\n",
    "![creating-lambda](post_setup.png)"
   ]
  },
  {
   "cell_type": "markdown",
   "metadata": {},
   "source": [
    "## Before deploying the API, TEST the logic. Go to test:\n",
    "<br>\n",
    "\n",
    "![creating-lambda](TEST.png)"
   ]
  },
  {
   "cell_type": "markdown",
   "metadata": {},
   "source": [
    "## FINALLY, we will deploy. \n",
    "Go to DEPLOY API by creating a new stage that we will call deploy_quality. This will return the URI to call POST, to test this go to POSTMAN.\n",
    "![creating-lambda](postman_test.png)"
   ]
  },
  {
   "cell_type": "markdown",
   "metadata": {},
   "source": [
    "## If you go to your lambda function, the logic will look as follows:\n",
    "\n",
    "![creating-lambda](LAMBDA_diagram.png)"
   ]
  },
  {
   "cell_type": "markdown",
   "metadata": {},
   "source": [
    "Aside from Udacity's Machine Learning Engineer Nanodegree, try the following Udemy courses:\n",
    "* mastering-boto3-with-aws-services\n",
    "* aws-machine-learning-a-complete-guide-with-python\n",
    "\n",
    "## Remember!\n",
    "* You can **debug** your code using AWS CloudWatch. Go to your endpoint and view logs\n",
    "* **Delete** your endpoint, API (from API GATEWAY) and Lambda function, as well as your files on S3."
   ]
  }
 ],
 "metadata": {
  "kernelspec": {
   "display_name": "conda_python3",
   "language": "python",
   "name": "conda_python3"
  },
  "language_info": {
   "codemirror_mode": {
    "name": "ipython",
    "version": 3
   },
   "file_extension": ".py",
   "mimetype": "text/x-python",
   "name": "python",
   "nbconvert_exporter": "python",
   "pygments_lexer": "ipython3",
   "version": "3.6.10"
  }
 },
 "nbformat": 4,
 "nbformat_minor": 4
}
