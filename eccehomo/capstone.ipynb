{
 "cells": [
  {
   "cell_type": "markdown",
   "metadata": {},
   "source": [
    "### Ecce Homo application to improve Machine Learning workflow\n",
    "In the following notebook we will explore 3 datasets from Kaggle competitions, to see how well Ecce Homo performs on automatically create data products and contrast them with the information of participants in mentioned competitions"
   ]
  },
  {
   "cell_type": "code",
   "execution_count": 1,
   "metadata": {},
   "outputs": [],
   "source": [
    "import pandas as pd\n",
    "import eccehomo"
   ]
  },
  {
   "cell_type": "markdown",
   "metadata": {},
   "source": [
    "### Exploratory Data Analysis\n",
    "Ecce Homo performs basic exploratory data analysis automatically and plot the data to a html file. What is basic exploratory data analysis:\n",
    "* Descriptive statistics. Count, mean, median, first and third quartile, min and max.\n",
    "* Unique values for categorical data.\n",
    "* Agregate data on categorical data \n",
    "* Boxplots\n",
    "* Histograms\n",
    "* Empty values\n",
    "* Correlations and heatmaps\n",
    "* pair scatter plots\n",
    "* bar plots on categorical data\n",
    "\n",
    "The decision of printing exploratory data analysis results in other place is to keep clean your notebook.\n",
    "For more help use the help() function"
   ]
  },
  {
   "cell_type": "code",
   "execution_count": 2,
   "metadata": {},
   "outputs": [],
   "source": [
    "df = pd.read_csv('data/titanic.csv')"
   ]
  },
  {
   "cell_type": "markdown",
   "metadata": {},
   "source": [
    "### Data\n",
    "We still have to understand what information each feature is providing us. Even though there is a brief explanation of the data in the html created.\n",
    "* Survival: 0 is No 1 is Yes.\n",
    "* Pclass: Is the ticket class, 1st, 2nd, 3rd.\n",
    "* Sex: Gender of passenger\n",
    "* Age: Age in years.\n",
    "* Siblings/Spouses Aboard: Number of sibling or spouses abroad in the titanic.\n",
    "* Parents/Children Aboard: Parents (or children) on the ship\n",
    "* Fare: Passenger Fare (price of ticket)"
   ]
  },
  {
   "cell_type": "code",
   "execution_count": 3,
   "metadata": {},
   "outputs": [
    {
     "data": {
      "text/html": [
       "<div>\n",
       "<style scoped>\n",
       "    .dataframe tbody tr th:only-of-type {\n",
       "        vertical-align: middle;\n",
       "    }\n",
       "\n",
       "    .dataframe tbody tr th {\n",
       "        vertical-align: top;\n",
       "    }\n",
       "\n",
       "    .dataframe thead th {\n",
       "        text-align: right;\n",
       "    }\n",
       "</style>\n",
       "<table border=\"1\" class=\"dataframe\">\n",
       "  <thead>\n",
       "    <tr style=\"text-align: right;\">\n",
       "      <th></th>\n",
       "      <th>Survived</th>\n",
       "      <th>Pclass</th>\n",
       "      <th>Name</th>\n",
       "      <th>Sex</th>\n",
       "      <th>Age</th>\n",
       "      <th>Siblings/Spouses Aboard</th>\n",
       "      <th>Parents/Children Aboard</th>\n",
       "      <th>Fare</th>\n",
       "    </tr>\n",
       "  </thead>\n",
       "  <tbody>\n",
       "    <tr>\n",
       "      <td>0</td>\n",
       "      <td>0</td>\n",
       "      <td>3</td>\n",
       "      <td>Mr. Owen Harris Braund</td>\n",
       "      <td>male</td>\n",
       "      <td>22.0</td>\n",
       "      <td>1</td>\n",
       "      <td>0</td>\n",
       "      <td>7.2500</td>\n",
       "    </tr>\n",
       "    <tr>\n",
       "      <td>1</td>\n",
       "      <td>1</td>\n",
       "      <td>1</td>\n",
       "      <td>Mrs. John Bradley (Florence Briggs Thayer) Cum...</td>\n",
       "      <td>female</td>\n",
       "      <td>38.0</td>\n",
       "      <td>1</td>\n",
       "      <td>0</td>\n",
       "      <td>71.2833</td>\n",
       "    </tr>\n",
       "    <tr>\n",
       "      <td>2</td>\n",
       "      <td>1</td>\n",
       "      <td>3</td>\n",
       "      <td>Miss. Laina Heikkinen</td>\n",
       "      <td>female</td>\n",
       "      <td>26.0</td>\n",
       "      <td>0</td>\n",
       "      <td>0</td>\n",
       "      <td>7.9250</td>\n",
       "    </tr>\n",
       "    <tr>\n",
       "      <td>3</td>\n",
       "      <td>1</td>\n",
       "      <td>1</td>\n",
       "      <td>Mrs. Jacques Heath (Lily May Peel) Futrelle</td>\n",
       "      <td>female</td>\n",
       "      <td>35.0</td>\n",
       "      <td>1</td>\n",
       "      <td>0</td>\n",
       "      <td>53.1000</td>\n",
       "    </tr>\n",
       "    <tr>\n",
       "      <td>4</td>\n",
       "      <td>0</td>\n",
       "      <td>3</td>\n",
       "      <td>Mr. William Henry Allen</td>\n",
       "      <td>male</td>\n",
       "      <td>35.0</td>\n",
       "      <td>0</td>\n",
       "      <td>0</td>\n",
       "      <td>8.0500</td>\n",
       "    </tr>\n",
       "  </tbody>\n",
       "</table>\n",
       "</div>"
      ],
      "text/plain": [
       "   Survived  Pclass                                               Name  \\\n",
       "0         0       3                             Mr. Owen Harris Braund   \n",
       "1         1       1  Mrs. John Bradley (Florence Briggs Thayer) Cum...   \n",
       "2         1       3                              Miss. Laina Heikkinen   \n",
       "3         1       1        Mrs. Jacques Heath (Lily May Peel) Futrelle   \n",
       "4         0       3                            Mr. William Henry Allen   \n",
       "\n",
       "      Sex   Age  Siblings/Spouses Aboard  Parents/Children Aboard     Fare  \n",
       "0    male  22.0                        1                        0   7.2500  \n",
       "1  female  38.0                        1                        0  71.2833  \n",
       "2  female  26.0                        0                        0   7.9250  \n",
       "3  female  35.0                        1                        0  53.1000  \n",
       "4    male  35.0                        0                        0   8.0500  "
      ]
     },
     "execution_count": 3,
     "metadata": {},
     "output_type": "execute_result"
    }
   ],
   "source": [
    "df.head(5)"
   ]
  },
  {
   "cell_type": "code",
   "execution_count": 3,
   "metadata": {},
   "outputs": [
    {
     "name": "stdout",
     "output_type": "stream",
     "text": [
      "         Survived      Pclass         Age  Siblings/Spouses Aboard  \\\n",
      "count  887.000000  887.000000  887.000000               887.000000   \n",
      "mean     0.385569    2.305524   29.471443                 0.525366   \n",
      "std      0.487004    0.836662   14.121908                 1.104669   \n",
      "min      0.000000    1.000000    0.420000                 0.000000   \n",
      "25%      0.000000    2.000000   20.250000                 0.000000   \n",
      "50%      0.000000    3.000000   28.000000                 0.000000   \n",
      "75%      1.000000    3.000000   38.000000                 1.000000   \n",
      "max      1.000000    3.000000   80.000000                 8.000000   \n",
      "\n",
      "       Parents/Children Aboard       Fare  \n",
      "count               887.000000  887.00000  \n",
      "mean                  0.383315   32.30542  \n",
      "std                   0.807466   49.78204  \n",
      "min                   0.000000    0.00000  \n",
      "25%                   0.000000    7.92500  \n",
      "50%                   0.000000   14.45420  \n",
      "75%                   0.000000   31.13750  \n",
      "max                   6.000000  512.32920  \n"
     ]
    }
   ],
   "source": [
    "eda = eccehomo.EDA(df, 'Survived', output_path = \"data\")\n",
    "eda.describe(to_print = True)"
   ]
  },
  {
   "cell_type": "code",
   "execution_count": 4,
   "metadata": {},
   "outputs": [
    {
     "name": "stdout",
     "output_type": "stream",
     "text": [
      "Survived                   0\n",
      "Pclass                     0\n",
      "Name                       0\n",
      "Sex                        0\n",
      "Age                        0\n",
      "Siblings/Spouses Aboard    0\n",
      "Parents/Children Aboard    0\n",
      "Fare                       0\n",
      "dtype: int64\n"
     ]
    },
    {
     "data": {
      "text/plain": [
       "<Figure size 432x288 with 0 Axes>"
      ]
     },
     "metadata": {},
     "output_type": "display_data"
    },
    {
     "data": {
      "text/plain": [
       "<Figure size 1080x1080 with 0 Axes>"
      ]
     },
     "metadata": {},
     "output_type": "display_data"
    }
   ],
   "source": [
    "eda.unique_values(unique_size = 20)\n",
    "#There are two categorical variables. One is name and not important for our exploration\n",
    "eda.groupby(aggregators =['Sex'])\n",
    "eda.boxplot()\n",
    "eda.histograms()\n",
    "eda.empty_values(to_print = True)\n",
    "eda.correlations()\n",
    "eda.barplot()\n",
    "#There is a max column parameter to avoid printing all columns and select random features to plot\n",
    "eda.scatter()\n",
    "eda.make_html(name = 'summary_titanic_eda')"
   ]
  },
  {
   "cell_type": "markdown",
   "metadata": {},
   "source": [
    "# HTML file\n",
    "This cell brings the images saved from the cell above.<br>\n",
    "**Please** if open the html file in Jupyter lab, images would not be displayed. Try it on your browser, test on Google Chrome worked.\n",
    "<img src=\"boxplot1.png\" alt=\"Not found\"><br><img src=\"boxplot2.png\" alt=\"Not found\"><br><img src=\"boxplot3.png\" alt=\"Not found\"><br><img src=\"boxplot4.png\" alt=\"Not found\"><br><img src=\"boxplot5.png\" alt=\"Not found\"><br><img src=\"histograms1.png\" alt=\"Not found\"><br><img src=\"histograms2.png\" alt=\"Not found\"><br><img src=\"correlation.png\" alt=\"Not found\"><br><img src=\"pairplot.png\" alt=\"Not found\"><br>"
   ]
  }
 ],
 "metadata": {
  "kernelspec": {
   "display_name": "Python 3",
   "language": "python",
   "name": "python3"
  },
  "language_info": {
   "codemirror_mode": {
    "name": "ipython",
    "version": 3
   },
   "file_extension": ".py",
   "mimetype": "text/x-python",
   "name": "python",
   "nbconvert_exporter": "python",
   "pygments_lexer": "ipython3",
   "version": "3.7.4"
  }
 },
 "nbformat": 4,
 "nbformat_minor": 4
}
