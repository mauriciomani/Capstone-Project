{
 "cells": [
  {
   "cell_type": "markdown",
   "metadata": {},
   "source": [
    "### Ecce Homo application to improve Machine Learning workflow\n",
    "In the following notebook we will explore 3 datasets from Kaggle competitions, to see how well Ecce Homo performs on automatically create data products and contrast them with the information of participants in mentioned competitions"
   ]
  },
  {
   "cell_type": "code",
   "execution_count": 21,
   "metadata": {},
   "outputs": [],
   "source": [
    "import pandas as pd\n",
    "import matplotlib.pyplot as plt\n",
    "from sklearn.model_selection import train_test_split\n",
    "from sklearn.preprocessing import MinMaxScaler\n",
    "from imblearn.over_sampling import SMOTE\n",
    "from imblearn.combine import SMOTEENN\n",
    "from sklearn.metrics import plot_confusion_matrix, accuracy_score, precision_score, recall_score, f1_score, roc_auc_score, cohen_kappa_score, confusion_matrix, roc_curve\n",
    "import eccehomo"
   ]
  },
  {
   "cell_type": "markdown",
   "metadata": {},
   "source": [
    "### Exploratory Data Analysis\n",
    "Ecce Homo performs basic exploratory data analysis automatically and plot the data to a html file. What is basic exploratory data analysis:\n",
    "* Descriptive statistics. Count, mean, median, first and third quartile, min and max.\n",
    "* Unique values for categorical data.\n",
    "* Agregate data on categorical data \n",
    "* Boxplots\n",
    "* Histograms\n",
    "* Empty values\n",
    "* Correlations and heatmaps\n",
    "* pair scatter plots\n",
    "* bar plots on categorical data\n",
    "\n",
    "The decision of printing exploratory data analysis results in other place is to keep clean your notebook.\n",
    "For more help use the help() function"
   ]
  },
  {
   "cell_type": "code",
   "execution_count": 154,
   "metadata": {},
   "outputs": [],
   "source": [
    "df = pd.read_csv('data/titanic/titanic.csv')"
   ]
  },
  {
   "cell_type": "markdown",
   "metadata": {},
   "source": [
    "### Data\n",
    "We still have to understand what information each feature is providing us. Even though there is a brief explanation of the data in the html created.\n",
    "* Survival: 0 is No 1 is Yes.\n",
    "* Pclass: Is the ticket class, 1st, 2nd, 3rd.\n",
    "* Sex: Gender of passenger\n",
    "* Age: Age in years.\n",
    "* SibSp: Siblings/Spouses Aboard, number of sibling or spouses abroad in the titanic.\n",
    "* Parch:Parents/Children Aboard, parents (or children) on the ship\n",
    "* Ticket: Ticket number\n",
    "* Fare: Passenger Fare (price of ticket)\n",
    "* Cabin: Cabin number\n",
    "* Embrked: Port of embarkation; C = Cherbourg, Q = Queenstown, S = Southampton"
   ]
  },
  {
   "cell_type": "code",
   "execution_count": 3,
   "metadata": {},
   "outputs": [
    {
     "data": {
      "text/html": [
       "<div>\n",
       "<style scoped>\n",
       "    .dataframe tbody tr th:only-of-type {\n",
       "        vertical-align: middle;\n",
       "    }\n",
       "\n",
       "    .dataframe tbody tr th {\n",
       "        vertical-align: top;\n",
       "    }\n",
       "\n",
       "    .dataframe thead th {\n",
       "        text-align: right;\n",
       "    }\n",
       "</style>\n",
       "<table border=\"1\" class=\"dataframe\">\n",
       "  <thead>\n",
       "    <tr style=\"text-align: right;\">\n",
       "      <th></th>\n",
       "      <th>PassengerId</th>\n",
       "      <th>Survived</th>\n",
       "      <th>Pclass</th>\n",
       "      <th>Name</th>\n",
       "      <th>Sex</th>\n",
       "      <th>Age</th>\n",
       "      <th>SibSp</th>\n",
       "      <th>Parch</th>\n",
       "      <th>Ticket</th>\n",
       "      <th>Fare</th>\n",
       "      <th>Cabin</th>\n",
       "      <th>Embarked</th>\n",
       "    </tr>\n",
       "  </thead>\n",
       "  <tbody>\n",
       "    <tr>\n",
       "      <td>0</td>\n",
       "      <td>1</td>\n",
       "      <td>0</td>\n",
       "      <td>3</td>\n",
       "      <td>Braund, Mr. Owen Harris</td>\n",
       "      <td>male</td>\n",
       "      <td>22.0</td>\n",
       "      <td>1</td>\n",
       "      <td>0</td>\n",
       "      <td>A/5 21171</td>\n",
       "      <td>7.2500</td>\n",
       "      <td>NaN</td>\n",
       "      <td>S</td>\n",
       "    </tr>\n",
       "    <tr>\n",
       "      <td>1</td>\n",
       "      <td>2</td>\n",
       "      <td>1</td>\n",
       "      <td>1</td>\n",
       "      <td>Cumings, Mrs. John Bradley (Florence Briggs Th...</td>\n",
       "      <td>female</td>\n",
       "      <td>38.0</td>\n",
       "      <td>1</td>\n",
       "      <td>0</td>\n",
       "      <td>PC 17599</td>\n",
       "      <td>71.2833</td>\n",
       "      <td>C85</td>\n",
       "      <td>C</td>\n",
       "    </tr>\n",
       "    <tr>\n",
       "      <td>2</td>\n",
       "      <td>3</td>\n",
       "      <td>1</td>\n",
       "      <td>3</td>\n",
       "      <td>Heikkinen, Miss. Laina</td>\n",
       "      <td>female</td>\n",
       "      <td>26.0</td>\n",
       "      <td>0</td>\n",
       "      <td>0</td>\n",
       "      <td>STON/O2. 3101282</td>\n",
       "      <td>7.9250</td>\n",
       "      <td>NaN</td>\n",
       "      <td>S</td>\n",
       "    </tr>\n",
       "    <tr>\n",
       "      <td>3</td>\n",
       "      <td>4</td>\n",
       "      <td>1</td>\n",
       "      <td>1</td>\n",
       "      <td>Futrelle, Mrs. Jacques Heath (Lily May Peel)</td>\n",
       "      <td>female</td>\n",
       "      <td>35.0</td>\n",
       "      <td>1</td>\n",
       "      <td>0</td>\n",
       "      <td>113803</td>\n",
       "      <td>53.1000</td>\n",
       "      <td>C123</td>\n",
       "      <td>S</td>\n",
       "    </tr>\n",
       "    <tr>\n",
       "      <td>4</td>\n",
       "      <td>5</td>\n",
       "      <td>0</td>\n",
       "      <td>3</td>\n",
       "      <td>Allen, Mr. William Henry</td>\n",
       "      <td>male</td>\n",
       "      <td>35.0</td>\n",
       "      <td>0</td>\n",
       "      <td>0</td>\n",
       "      <td>373450</td>\n",
       "      <td>8.0500</td>\n",
       "      <td>NaN</td>\n",
       "      <td>S</td>\n",
       "    </tr>\n",
       "  </tbody>\n",
       "</table>\n",
       "</div>"
      ],
      "text/plain": [
       "   PassengerId  Survived  Pclass  \\\n",
       "0            1         0       3   \n",
       "1            2         1       1   \n",
       "2            3         1       3   \n",
       "3            4         1       1   \n",
       "4            5         0       3   \n",
       "\n",
       "                                                Name     Sex   Age  SibSp  \\\n",
       "0                            Braund, Mr. Owen Harris    male  22.0      1   \n",
       "1  Cumings, Mrs. John Bradley (Florence Briggs Th...  female  38.0      1   \n",
       "2                             Heikkinen, Miss. Laina  female  26.0      0   \n",
       "3       Futrelle, Mrs. Jacques Heath (Lily May Peel)  female  35.0      1   \n",
       "4                           Allen, Mr. William Henry    male  35.0      0   \n",
       "\n",
       "   Parch            Ticket     Fare Cabin Embarked  \n",
       "0      0         A/5 21171   7.2500   NaN        S  \n",
       "1      0          PC 17599  71.2833   C85        C  \n",
       "2      0  STON/O2. 3101282   7.9250   NaN        S  \n",
       "3      0            113803  53.1000  C123        S  \n",
       "4      0            373450   8.0500   NaN        S  "
      ]
     },
     "execution_count": 3,
     "metadata": {},
     "output_type": "execute_result"
    }
   ],
   "source": [
    "df.head(5)"
   ]
  },
  {
   "cell_type": "code",
   "execution_count": 38,
   "metadata": {},
   "outputs": [
    {
     "name": "stdout",
     "output_type": "stream",
     "text": [
      "       PassengerId    Survived      Pclass         Age       SibSp  \\\n",
      "count   891.000000  891.000000  891.000000  714.000000  891.000000   \n",
      "mean    446.000000    0.383838    2.308642   29.699118    0.523008   \n",
      "std     257.353842    0.486592    0.836071   14.526497    1.102743   \n",
      "min       1.000000    0.000000    1.000000    0.420000    0.000000   \n",
      "25%     223.500000    0.000000    2.000000   20.125000    0.000000   \n",
      "50%     446.000000    0.000000    3.000000   28.000000    0.000000   \n",
      "75%     668.500000    1.000000    3.000000   38.000000    1.000000   \n",
      "max     891.000000    1.000000    3.000000   80.000000    8.000000   \n",
      "\n",
      "            Parch        Fare  \n",
      "count  891.000000  891.000000  \n",
      "mean     0.381594   32.204208  \n",
      "std      0.806057   49.693429  \n",
      "min      0.000000    0.000000  \n",
      "25%      0.000000    7.910400  \n",
      "50%      0.000000   14.454200  \n",
      "75%      0.000000   31.000000  \n",
      "max      6.000000  512.329200  \n"
     ]
    }
   ],
   "source": [
    "eda = eccehomo.EDA(df, 'Survived', output_path = \"data/titanic\")\n",
    "eda.describe(to_print = True)"
   ]
  },
  {
   "cell_type": "code",
   "execution_count": 39,
   "metadata": {},
   "outputs": [
    {
     "name": "stdout",
     "output_type": "stream",
     "text": [
      "PassengerId      0\n",
      "Survived         0\n",
      "Pclass           0\n",
      "Name             0\n",
      "Sex              0\n",
      "Age            177\n",
      "SibSp            0\n",
      "Parch            0\n",
      "Ticket           0\n",
      "Fare             0\n",
      "Cabin          687\n",
      "Embarked         2\n",
      "dtype: int64\n"
     ]
    },
    {
     "name": "stderr",
     "output_type": "stream",
     "text": [
      "/home/mauriciomani/anaconda3/lib/python3.7/site-packages/numpy/lib/histograms.py:829: RuntimeWarning: invalid value encountered in greater_equal\n",
      "  keep = (tmp_a >= first_edge)\n",
      "/home/mauriciomani/anaconda3/lib/python3.7/site-packages/numpy/lib/histograms.py:830: RuntimeWarning: invalid value encountered in less_equal\n",
      "  keep &= (tmp_a <= last_edge)\n"
     ]
    },
    {
     "data": {
      "text/plain": [
       "<Figure size 432x288 with 0 Axes>"
      ]
     },
     "metadata": {},
     "output_type": "display_data"
    },
    {
     "data": {
      "text/plain": [
       "<Figure size 1260x1260 with 0 Axes>"
      ]
     },
     "metadata": {},
     "output_type": "display_data"
    }
   ],
   "source": [
    "eda.unique_values(unique_size = 2)\n",
    "#There are two categorical variables. One is name and not important for our exploration\n",
    "eda.groupby(aggregators =['Survived', 'Sex', 'Embarked', 'Cabin'])\n",
    "eda.boxplot()\n",
    "eda.histograms()\n",
    "eda.empty_values(to_print = True)\n",
    "eda.correlations()\n",
    "eda.barplot()\n",
    "#There is a max column parameter to avoid printing all columns and select random features to plot\n",
    "eda.scatter()\n",
    "eda.make_html(name = 'summary_titanic_eda')"
   ]
  },
  {
   "cell_type": "markdown",
   "metadata": {},
   "source": [
    "# HTML file\n",
    "This cell brings the images saved from the cell above.<br>\n",
    "**Please** if open the html file in Jupyter lab, images would not be displayed. Try it on your browser, test on Google Chrome worked.\n",
    "<img src=\"data/titanic/boxplot2.png\" alt=\"Not found\"><br><img src=\"data/titanic/boxplot3.png\" alt=\"Not found\"><br><img src=\"data/titanic/boxplot4.png\" alt=\"Not found\"><br><img src=\"data/titanic/boxplot5.png\" alt=\"Not found\"><br><img src=\"data/titanic/boxplot6.png\" alt=\"Not found\"><br><img src=\"data/titanic/histograms1.png\" alt=\"Not found\"><br><img src=\"data/titanic/histograms2.png\" alt=\"Not found\"><br><img src=\"data/titanic/correlation.png\" alt=\"Not found\"><br><img src=\"data/titanic/bar2.png\" alt=\"Not found\"><br><img src=\"data/titanic/bar3.png\" alt=\"Not found\"><br><img src=\"data/titanic/bar4.png\" alt=\"Not found\"><br><img src=\"data/titanic/bar5.png\" alt=\"Not found\"><br><img src=\"data/titanic/bar6.png\" alt=\"Not found\"><br><img src=\"data/titanic/pairplot.png\" alt=\"Not found\">"
   ]
  },
  {
   "cell_type": "markdown",
   "metadata": {},
   "source": [
    "### Conclusions based on EDA\n",
    "The dataset is unbalanced, meaning that there are more people that did not survive. People older than 30 years deacrese the chance of surviving, females survived more than males and having a higher fare meant more chances of suriving.\n",
    "There are no clear linear relationsips between variables. There were more male than female, and more people in third class. Age, cabin and embarked have null values.\n",
    "Due to the nature of the distributions we will not perform any variable transformations.\n",
    "**Passenger id and name will not be included to perform any prediction.**\n",
    "\n",
    "Before any preprocessing to the data, it is neccesary to split the data into train and test. We are not going to use validantion data due to the fact that we will perform cross validation. The split strategy will be 80-20.\n",
    "\n",
    "In order to extract the title of te people aboard we perform the former trasnformation. Dictonary was extracted from: https://www.ahmedbesbes.com/blog/kaggle-titanic-competition (implementation different).\n",
    "As we have seen above on the histogram younger people survived more, so we are going to use a boolean indicator to let the algorithm know when young. The family realted variables were joined, to avoid noise."
   ]
  },
  {
   "cell_type": "code",
   "execution_count": 155,
   "metadata": {},
   "outputs": [],
   "source": [
    "def find_title(string):\n",
    "    start = string.find(\",\")\n",
    "    end = string.find(\".\")\n",
    "    return(string[start +2:end].strip())\n",
    "df['title'] = df.Name.apply(find_title)\n",
    "df.title.replace({\n",
    "    \"Capt\": \"Crew\",\n",
    "    \"Col\": \"Crew\",\n",
    "    \"Major\": \"Crew\",\n",
    "    \"Jonkheer\": \"Royal\",\n",
    "    \"Don\": \"Royal\",\n",
    "    \"Sir\" : \"Royal\",\n",
    "    \"Dr\": \"Crew\",\n",
    "    \"Rev\": \"Crew\",\n",
    "    \"the Countess\":\"Royal\",\n",
    "    \"Mme\": \"Mrs\",\n",
    "    \"Mlle\": \"Miss\",\n",
    "    \"Ms\": \"Mrs\",\n",
    "    \"Mr\" : \"Mr\",\n",
    "    \"Mrs\" : \"Mrs\",\n",
    "    \"Miss\" : \"Miss\",\n",
    "    \"Master\" : \"Master\",\n",
    "    \"Lady\" : \"Royal\"}, inplace = True)"
   ]
  },
  {
   "cell_type": "code",
   "execution_count": 156,
   "metadata": {},
   "outputs": [],
   "source": [
    "X = df.drop(['Survived', 'Name'], axis = 1)\n",
    "X['Cabin'] = X.Cabin.str[0]\n",
    "X['young'] = (X.Age<=15).astype(int)\n",
    "X[\"family\"] = X.SibSp + X.Parch\n",
    "y = df.Survived\n",
    "X_train, X_test, y_train, y_test = train_test_split(X, y, test_size = 0.2, random_state =12) "
   ]
  },
  {
   "cell_type": "markdown",
   "metadata": {},
   "source": [
    "### Imputation\n",
    "For this task we will use the class DataImputation and method user_defined that will perform wanted imputation for every variable. As observed on the EDA, \"Embarked\", \"Cabin\" and \"Age\" have missing values, for Embarked, having only two variables we will impute with the most frequest value, for cabin we will add the missing indicator \"other\" and for Age we will use de KNN Imputer approach."
   ]
  },
  {
   "cell_type": "code",
   "execution_count": 157,
   "metadata": {},
   "outputs": [
    {
     "data": {
      "text/plain": [
       "{'Embarked': ['mode', 'S'],\n",
       " 'Cabin': ['indicator', 'other'],\n",
       " 'Age': ['knn',\n",
       "  KNNImputer(add_indicator=False, copy=True, metric='nan_euclidean',\n",
       "             missing_values=nan, n_neighbors=5, weights='uniform')]}"
      ]
     },
     "execution_count": 157,
     "metadata": {},
     "output_type": "execute_result"
    }
   ],
   "source": [
    "imputation = eccehomo.DataImputation(X_train, X_test)\n",
    "X_train = imputation.user_defined(defined_methods = {\"Embarked\":\"mode\", \"Cabin\":\"indicator\", \"Age\":\"knn\"}, indicator = 'other')\n",
    "X_test = imputation.test_imputation(imputation.imputed_values, use_value = True)\n",
    "imputation.imputed_values"
   ]
  },
  {
   "cell_type": "markdown",
   "metadata": {},
   "source": [
    "### Variable encoding\n",
    "We will encode and \"Sex\", \"Pclass\", \"Cabin\" and \"title\". Pclass has being one hot encoded since there is no clear class 1st and 2nd have strictly 1 unit relation, same with third. Cabin as done above only include the letter and title, might give us the importance of the person. We will not use \"Embarked\" since it will not give us valuable information on whether they survived or not."
   ]
  },
  {
   "cell_type": "code",
   "execution_count": 158,
   "metadata": {},
   "outputs": [],
   "source": [
    "id_train = X_train.PassengerId\n",
    "id_test = X_test.PassengerId\n",
    "X_train = X_train[['Sex', 'Pclass', 'Age', 'family','Fare', \"Cabin\", \"young\", 'title']]\n",
    "X_test = X_test[['Sex', 'Pclass', 'Age', 'family','Fare', \"Cabin\", \"young\", 'title']]\n",
    "df = pd.get_dummies(X_train.append(X_test), columns = [\"Pclass\", \"Sex\", \"Cabin\", 'title'],  drop_first = True)\n",
    "X_test = df.iloc[-X_test.shape[0]:,:]\n",
    "X_train = df.iloc[:-X_test.shape[0],:]"
   ]
  },
  {
   "cell_type": "markdown",
   "metadata": {},
   "source": [
    "### Unbalance dataset\n",
    "For the minority class 1 (Survived) it was expected to create synthetic observations using SMOTE, that stands for Synthetic Minority oversampling technique. In other words, we wanted to create artificial observations for the minority class aiming to balance 50-50 target class. The cell bellow shows the amount of observations for every target class,plus the implementation of SMOTE "
   ]
  },
  {
   "cell_type": "code",
   "execution_count": 159,
   "metadata": {},
   "outputs": [
    {
     "data": {
      "text/plain": [
       "1    449\n",
       "0    449\n",
       "Name: Survived, dtype: int64"
      ]
     },
     "execution_count": 159,
     "metadata": {},
     "output_type": "execute_result"
    }
   ],
   "source": [
    "smote = SMOTE(random_state=12)\n",
    "X_train, y_train = smote.fit_resample(X_train, y_train)\n",
    "y_train.value_counts()"
   ]
  },
  {
   "cell_type": "markdown",
   "metadata": {},
   "source": [
    "### Scaling\n",
    "As explained on the EDA conclusions, due to the nature of the distributions, uing minmax for scaling is better than standarized, since we do not have strictly normal distributions."
   ]
  },
  {
   "cell_type": "code",
   "execution_count": 160,
   "metadata": {},
   "outputs": [],
   "source": [
    "minmax = MinMaxScaler().fit(X_train)\n",
    "X_train = minmax.transform(X_train)\n",
    "X_test = minmax.transform(X_test)"
   ]
  },
  {
   "cell_type": "markdown",
   "metadata": {},
   "source": [
    "### Automatic Bayesian Optimization\n",
    "Ecce Homo application performs automatic Bayesian Optimization on desaired algorithm, implemented using: https://github.com/fmfn/BayesianOptimization\n",
    "For a better understanfing on this technique please refer to pdf. Crossvalidation is being used, we will use f1 score, due to the fact tht we might not want to be very precise nor lax."
   ]
  },
  {
   "cell_type": "code",
   "execution_count": 172,
   "metadata": {},
   "outputs": [
    {
     "name": "stdout",
     "output_type": "stream",
     "text": [
      "|   iter    |  target   | max_depth | max_le... | min_sa... | min_sa... | n_esti... |\n",
      "-------------------------------------------------------------------------------------\n",
      "| \u001b[0m 1       \u001b[0m | \u001b[0m 0.844   \u001b[0m | \u001b[0m 47.94   \u001b[0m | \u001b[0m 19.02   \u001b[0m | \u001b[0m 7.32    \u001b[0m | \u001b[0m 14.28   \u001b[0m | \u001b[0m 13.5    \u001b[0m |\n",
      "| \u001b[95m 2       \u001b[0m | \u001b[95m 0.8466  \u001b[0m | \u001b[95m 275.8   \u001b[0m | \u001b[95m 22.72   \u001b[0m | \u001b[95m 1.802   \u001b[0m | \u001b[95m 24.01   \u001b[0m | \u001b[95m 42.93   \u001b[0m |\n",
      "| \u001b[0m 3       \u001b[0m | \u001b[0m 0.8138  \u001b[0m | \u001b[0m 86.58   \u001b[0m | \u001b[0m 15.94   \u001b[0m | \u001b[0m 23.66   \u001b[0m | \u001b[0m 21.61   \u001b[0m | \u001b[0m 10.54   \u001b[0m |\n",
      "| \u001b[0m 4       \u001b[0m | \u001b[0m 0.8305  \u001b[0m | \u001b[0m 157.3   \u001b[0m | \u001b[0m 14.7    \u001b[0m | \u001b[0m 12.65   \u001b[0m | \u001b[0m 19.67   \u001b[0m | \u001b[0m 48.57   \u001b[0m |\n",
      "| \u001b[0m 5       \u001b[0m | \u001b[0m 0.8114  \u001b[0m | \u001b[0m 229.8   \u001b[0m | \u001b[0m 2.479   \u001b[0m | \u001b[0m 4.245   \u001b[0m | \u001b[0m 4.674   \u001b[0m | \u001b[0m 84.38   \u001b[0m |\n",
      "| \u001b[0m 6       \u001b[0m | \u001b[0m 0.8198  \u001b[0m | \u001b[0m 2.0     \u001b[0m | \u001b[0m 25.0    \u001b[0m | \u001b[0m 1.0     \u001b[0m | \u001b[0m 25.0    \u001b[0m | \u001b[0m 250.0   \u001b[0m |\n",
      "| \u001b[95m 7       \u001b[0m | \u001b[95m 0.8502  \u001b[0m | \u001b[95m 269.8   \u001b[0m | \u001b[95m 25.0    \u001b[0m | \u001b[95m 1.0     \u001b[0m | \u001b[95m 25.0    \u001b[0m | \u001b[95m 238.9   \u001b[0m |\n",
      "| \u001b[0m 8       \u001b[0m | \u001b[0m 0.8408  \u001b[0m | \u001b[0m 46.25   \u001b[0m | \u001b[0m 16.11   \u001b[0m | \u001b[0m 5.647   \u001b[0m | \u001b[0m 14.8    \u001b[0m | \u001b[0m 10.04   \u001b[0m |\n",
      "| \u001b[95m 9       \u001b[0m | \u001b[95m 0.8506  \u001b[0m | \u001b[95m 174.9   \u001b[0m | \u001b[95m 24.33   \u001b[0m | \u001b[95m 1.083   \u001b[0m | \u001b[95m 3.778   \u001b[0m | \u001b[95m 22.35   \u001b[0m |\n",
      "| \u001b[0m 10      \u001b[0m | \u001b[0m 0.8482  \u001b[0m | \u001b[0m 121.2   \u001b[0m | \u001b[0m 24.96   \u001b[0m | \u001b[0m 2.62    \u001b[0m | \u001b[0m 20.16   \u001b[0m | \u001b[0m 121.9   \u001b[0m |\n",
      "| \u001b[95m 11      \u001b[0m | \u001b[95m 0.8562  \u001b[0m | \u001b[95m 10.81   \u001b[0m | \u001b[95m 24.82   \u001b[0m | \u001b[95m 1.83    \u001b[0m | \u001b[95m 20.67   \u001b[0m | \u001b[95m 42.21   \u001b[0m |\n",
      "| \u001b[0m 12      \u001b[0m | \u001b[0m 0.8502  \u001b[0m | \u001b[0m 92.18   \u001b[0m | \u001b[0m 24.72   \u001b[0m | \u001b[0m 1.981   \u001b[0m | \u001b[0m 22.41   \u001b[0m | \u001b[0m 18.56   \u001b[0m |\n",
      "| \u001b[0m 13      \u001b[0m | \u001b[0m 0.8458  \u001b[0m | \u001b[0m 6.797   \u001b[0m | \u001b[0m 24.42   \u001b[0m | \u001b[0m 5.947   \u001b[0m | \u001b[0m 2.894   \u001b[0m | \u001b[0m 113.4   \u001b[0m |\n",
      "| \u001b[0m 14      \u001b[0m | \u001b[0m 0.8395  \u001b[0m | \u001b[0m 298.7   \u001b[0m | \u001b[0m 24.89   \u001b[0m | \u001b[0m 9.599   \u001b[0m | \u001b[0m 16.87   \u001b[0m | \u001b[0m 153.7   \u001b[0m |\n",
      "| \u001b[0m 15      \u001b[0m | \u001b[0m 0.8517  \u001b[0m | \u001b[0m 123.4   \u001b[0m | \u001b[0m 20.9    \u001b[0m | \u001b[0m 4.8     \u001b[0m | \u001b[0m 23.47   \u001b[0m | \u001b[0m 120.6   \u001b[0m |\n",
      "| \u001b[0m 16      \u001b[0m | \u001b[0m 0.8185  \u001b[0m | \u001b[0m 135.2   \u001b[0m | \u001b[0m 6.363   \u001b[0m | \u001b[0m 24.42   \u001b[0m | \u001b[0m 24.13   \u001b[0m | \u001b[0m 245.1   \u001b[0m |\n",
      "| \u001b[0m 17      \u001b[0m | \u001b[0m 0.8441  \u001b[0m | \u001b[0m 87.83   \u001b[0m | \u001b[0m 24.87   \u001b[0m | \u001b[0m 3.389   \u001b[0m | \u001b[0m 24.26   \u001b[0m | \u001b[0m 18.53   \u001b[0m |\n",
      "| \u001b[0m 18      \u001b[0m | \u001b[0m 0.821   \u001b[0m | \u001b[0m 296.7   \u001b[0m | \u001b[0m 14.8    \u001b[0m | \u001b[0m 24.42   \u001b[0m | \u001b[0m 20.81   \u001b[0m | \u001b[0m 242.2   \u001b[0m |\n",
      "| \u001b[0m 19      \u001b[0m | \u001b[0m 0.8158  \u001b[0m | \u001b[0m 3.816   \u001b[0m | \u001b[0m 3.082   \u001b[0m | \u001b[0m 1.108   \u001b[0m | \u001b[0m 20.18   \u001b[0m | \u001b[0m 116.6   \u001b[0m |\n",
      "| \u001b[0m 20      \u001b[0m | \u001b[0m 0.8303  \u001b[0m | \u001b[0m 218.0   \u001b[0m | \u001b[0m 24.04   \u001b[0m | \u001b[0m 17.42   \u001b[0m | \u001b[0m 24.97   \u001b[0m | \u001b[0m 183.8   \u001b[0m |\n",
      "| \u001b[0m 21      \u001b[0m | \u001b[0m 0.8114  \u001b[0m | \u001b[0m 270.9   \u001b[0m | \u001b[0m 2.44    \u001b[0m | \u001b[0m 1.338   \u001b[0m | \u001b[0m 23.14   \u001b[0m | \u001b[0m 213.0   \u001b[0m |\n",
      "| \u001b[0m 22      \u001b[0m | \u001b[0m 0.8433  \u001b[0m | \u001b[0m 298.8   \u001b[0m | \u001b[0m 19.34   \u001b[0m | \u001b[0m 9.422   \u001b[0m | \u001b[0m 3.228   \u001b[0m | \u001b[0m 17.27   \u001b[0m |\n",
      "| \u001b[0m 23      \u001b[0m | \u001b[0m 0.8239  \u001b[0m | \u001b[0m 12.53   \u001b[0m | \u001b[0m 24.69   \u001b[0m | \u001b[0m 23.26   \u001b[0m | \u001b[0m 23.79   \u001b[0m | \u001b[0m 194.7   \u001b[0m |\n",
      "| \u001b[0m 24      \u001b[0m | \u001b[0m 0.8561  \u001b[0m | \u001b[0m 13.3    \u001b[0m | \u001b[0m 24.96   \u001b[0m | \u001b[0m 2.165   \u001b[0m | \u001b[0m 4.743   \u001b[0m | \u001b[0m 27.05   \u001b[0m |\n",
      "| \u001b[0m 25      \u001b[0m | \u001b[0m 0.8548  \u001b[0m | \u001b[0m 47.68   \u001b[0m | \u001b[0m 21.08   \u001b[0m | \u001b[0m 2.977   \u001b[0m | \u001b[0m 2.244   \u001b[0m | \u001b[0m 55.29   \u001b[0m |\n",
      "| \u001b[0m 26      \u001b[0m | \u001b[0m 0.8498  \u001b[0m | \u001b[0m 292.6   \u001b[0m | \u001b[0m 18.63   \u001b[0m | \u001b[0m 3.044   \u001b[0m | \u001b[0m 20.68   \u001b[0m | \u001b[0m 11.16   \u001b[0m |\n",
      "| \u001b[0m 27      \u001b[0m | \u001b[0m 0.8451  \u001b[0m | \u001b[0m 11.49   \u001b[0m | \u001b[0m 24.3    \u001b[0m | \u001b[0m 1.926   \u001b[0m | \u001b[0m 24.28   \u001b[0m | \u001b[0m 40.1    \u001b[0m |\n",
      "| \u001b[0m 28      \u001b[0m | \u001b[0m 0.8121  \u001b[0m | \u001b[0m 2.728   \u001b[0m | \u001b[0m 22.2    \u001b[0m | \u001b[0m 24.79   \u001b[0m | \u001b[0m 6.606   \u001b[0m | \u001b[0m 69.33   \u001b[0m |\n",
      "| \u001b[0m 29      \u001b[0m | \u001b[0m 0.8514  \u001b[0m | \u001b[0m 97.04   \u001b[0m | \u001b[0m 21.85   \u001b[0m | \u001b[0m 2.355   \u001b[0m | \u001b[0m 24.93   \u001b[0m | \u001b[0m 191.4   \u001b[0m |\n",
      "| \u001b[0m 30      \u001b[0m | \u001b[0m 0.8077  \u001b[0m | \u001b[0m 296.8   \u001b[0m | \u001b[0m 2.454   \u001b[0m | \u001b[0m 24.39   \u001b[0m | \u001b[0m 16.91   \u001b[0m | \u001b[0m 11.99   \u001b[0m |\n",
      "| \u001b[0m 31      \u001b[0m | \u001b[0m 0.837   \u001b[0m | \u001b[0m 299.0   \u001b[0m | \u001b[0m 14.74   \u001b[0m | \u001b[0m 9.239   \u001b[0m | \u001b[0m 3.58    \u001b[0m | \u001b[0m 20.5    \u001b[0m |\n",
      "| \u001b[0m 32      \u001b[0m | \u001b[0m 0.8544  \u001b[0m | \u001b[0m 24.23   \u001b[0m | \u001b[0m 23.0    \u001b[0m | \u001b[0m 1.719   \u001b[0m | \u001b[0m 22.24   \u001b[0m | \u001b[0m 115.2   \u001b[0m |\n",
      "| \u001b[0m 33      \u001b[0m | \u001b[0m 0.8547  \u001b[0m | \u001b[0m 298.8   \u001b[0m | \u001b[0m 23.13   \u001b[0m | \u001b[0m 3.316   \u001b[0m | \u001b[0m 2.307   \u001b[0m | \u001b[0m 243.4   \u001b[0m |\n",
      "| \u001b[0m 34      \u001b[0m | \u001b[0m 0.8361  \u001b[0m | \u001b[0m 245.3   \u001b[0m | \u001b[0m 21.69   \u001b[0m | \u001b[0m 2.586   \u001b[0m | \u001b[0m 13.93   \u001b[0m | \u001b[0m 10.77   \u001b[0m |\n",
      "| \u001b[0m 35      \u001b[0m | \u001b[0m 0.8338  \u001b[0m | \u001b[0m 107.4   \u001b[0m | \u001b[0m 10.02   \u001b[0m | \u001b[0m 1.321   \u001b[0m | \u001b[0m 2.823   \u001b[0m | \u001b[0m 18.1    \u001b[0m |\n",
      "| \u001b[0m 36      \u001b[0m | \u001b[0m 0.8467  \u001b[0m | \u001b[0m 193.9   \u001b[0m | \u001b[0m 24.15   \u001b[0m | \u001b[0m 1.601   \u001b[0m | \u001b[0m 24.03   \u001b[0m | \u001b[0m 118.4   \u001b[0m |\n",
      "| \u001b[0m 37      \u001b[0m | \u001b[0m 0.851   \u001b[0m | \u001b[0m 193.3   \u001b[0m | \u001b[0m 24.49   \u001b[0m | \u001b[0m 3.23    \u001b[0m | \u001b[0m 8.769   \u001b[0m | \u001b[0m 247.9   \u001b[0m |\n",
      "| \u001b[0m 38      \u001b[0m | \u001b[0m 0.8464  \u001b[0m | \u001b[0m 61.14   \u001b[0m | \u001b[0m 24.32   \u001b[0m | \u001b[0m 7.74    \u001b[0m | \u001b[0m 5.696   \u001b[0m | \u001b[0m 245.8   \u001b[0m |\n",
      "| \u001b[0m 39      \u001b[0m | \u001b[0m 0.8508  \u001b[0m | \u001b[0m 145.1   \u001b[0m | \u001b[0m 23.36   \u001b[0m | \u001b[0m 2.224   \u001b[0m | \u001b[0m 17.73   \u001b[0m | \u001b[0m 248.1   \u001b[0m |\n",
      "| \u001b[0m 40      \u001b[0m | \u001b[0m 0.8552  \u001b[0m | \u001b[0m 36.6    \u001b[0m | \u001b[0m 23.07   \u001b[0m | \u001b[0m 3.258   \u001b[0m | \u001b[0m 3.817   \u001b[0m | \u001b[0m 179.3   \u001b[0m |\n",
      "| \u001b[0m 41      \u001b[0m | \u001b[0m 0.8528  \u001b[0m | \u001b[0m 27.32   \u001b[0m | \u001b[0m 24.92   \u001b[0m | \u001b[0m 1.682   \u001b[0m | \u001b[0m 2.584   \u001b[0m | \u001b[0m 30.39   \u001b[0m |\n",
      "| \u001b[0m 42      \u001b[0m | \u001b[0m 0.8473  \u001b[0m | \u001b[0m 299.7   \u001b[0m | \u001b[0m 21.29   \u001b[0m | \u001b[0m 1.911   \u001b[0m | \u001b[0m 24.44   \u001b[0m | \u001b[0m 245.1   \u001b[0m |\n",
      "| \u001b[0m 43      \u001b[0m | \u001b[0m 0.853   \u001b[0m | \u001b[0m 36.27   \u001b[0m | \u001b[0m 23.27   \u001b[0m | \u001b[0m 4.028   \u001b[0m | \u001b[0m 2.966   \u001b[0m | \u001b[0m 175.7   \u001b[0m |\n",
      "| \u001b[0m 44      \u001b[0m | \u001b[0m 0.8305  \u001b[0m | \u001b[0m 69.55   \u001b[0m | \u001b[0m 7.714   \u001b[0m | \u001b[0m 1.326   \u001b[0m | \u001b[0m 22.88   \u001b[0m | \u001b[0m 243.6   \u001b[0m |\n",
      "| \u001b[0m 45      \u001b[0m | \u001b[0m 0.8547  \u001b[0m | \u001b[0m 298.7   \u001b[0m | \u001b[0m 22.31   \u001b[0m | \u001b[0m 2.093   \u001b[0m | \u001b[0m 3.999   \u001b[0m | \u001b[0m 97.32   \u001b[0m |\n",
      "| \u001b[0m 46      \u001b[0m | \u001b[0m 0.848   \u001b[0m | \u001b[0m 69.07   \u001b[0m | \u001b[0m 24.48   \u001b[0m | \u001b[0m 1.841   \u001b[0m | \u001b[0m 22.09   \u001b[0m | \u001b[0m 73.98   \u001b[0m |\n",
      "| \u001b[0m 47      \u001b[0m | \u001b[0m 0.8141  \u001b[0m | \u001b[0m 157.2   \u001b[0m | \u001b[0m 3.546   \u001b[0m | \u001b[0m 1.221   \u001b[0m | \u001b[0m 22.49   \u001b[0m | \u001b[0m 162.8   \u001b[0m |\n",
      "| \u001b[0m 48      \u001b[0m | \u001b[0m 0.8505  \u001b[0m | \u001b[0m 37.22   \u001b[0m | \u001b[0m 24.93   \u001b[0m | \u001b[0m 1.542   \u001b[0m | \u001b[0m 23.21   \u001b[0m | \u001b[0m 220.8   \u001b[0m |\n",
      "| \u001b[0m 49      \u001b[0m | \u001b[0m 0.8162  \u001b[0m | \u001b[0m 75.98   \u001b[0m | \u001b[0m 24.29   \u001b[0m | \u001b[0m 24.5    \u001b[0m | \u001b[0m 23.7    \u001b[0m | \u001b[0m 138.9   \u001b[0m |\n",
      "| \u001b[0m 50      \u001b[0m | \u001b[0m 0.8345  \u001b[0m | \u001b[0m 160.4   \u001b[0m | \u001b[0m 19.49   \u001b[0m | \u001b[0m 2.13    \u001b[0m | \u001b[0m 23.19   \u001b[0m | \u001b[0m 10.13   \u001b[0m |\n",
      "| \u001b[0m 51      \u001b[0m | \u001b[0m 0.8275  \u001b[0m | \u001b[0m 285.3   \u001b[0m | \u001b[0m 24.11   \u001b[0m | \u001b[0m 19.67   \u001b[0m | \u001b[0m 22.75   \u001b[0m | \u001b[0m 105.1   \u001b[0m |\n",
      "| \u001b[0m 52      \u001b[0m | \u001b[0m 0.8297  \u001b[0m | \u001b[0m 3.7     \u001b[0m | \u001b[0m 22.73   \u001b[0m | \u001b[0m 3.042   \u001b[0m | \u001b[0m 6.086   \u001b[0m | \u001b[0m 198.9   \u001b[0m |\n",
      "| \u001b[0m 53      \u001b[0m | \u001b[0m 0.821   \u001b[0m | \u001b[0m 183.0   \u001b[0m | \u001b[0m 24.93   \u001b[0m | \u001b[0m 24.23   \u001b[0m | \u001b[0m 21.99   \u001b[0m | \u001b[0m 246.6   \u001b[0m |\n",
      "| \u001b[0m 54      \u001b[0m | \u001b[0m 0.8356  \u001b[0m | \u001b[0m 113.5   \u001b[0m | \u001b[0m 23.81   \u001b[0m | \u001b[0m 14.65   \u001b[0m | \u001b[0m 2.619   \u001b[0m | \u001b[0m 235.7   \u001b[0m |\n",
      "| \u001b[0m 55      \u001b[0m | \u001b[0m 0.8557  \u001b[0m | \u001b[0m 260.1   \u001b[0m | \u001b[0m 22.34   \u001b[0m | \u001b[0m 1.044   \u001b[0m | \u001b[0m 3.833   \u001b[0m | \u001b[0m 162.3   \u001b[0m |\n",
      "=====================================================================================\n",
      "Final result: {'target': 0.8561930060432257, 'params': {'max_depth': 10.805713943873872, 'max_leaf_nodes': 24.817482956751636, 'min_samples_leaf': 1.8304437958286615, 'min_samples_split': 20.672299813805832, 'n_estimators': 42.21185657384153}}\n"
     ]
    }
   ],
   "source": [
    "model = eccehomo.Modeling(X_train, y_train, algo = \"RandomForest\", iter = 50, scoring='f1').optimize()"
   ]
  },
  {
   "cell_type": "markdown",
   "metadata": {},
   "source": [
    "### Metrics and model information\n",
    "The former process was applied to Logistic Regression, Support Vector Machine and Gradient Boosting Tree. Obtaining best results on Random Forest. Our score to otpimize when performing cross validation and bayesian optimization was F1. Which is a metric that takes into account Precision and Recall. We do not want to exclude those that could survive (precision) neither be very inclusive (recall). We want a good estimator that balance between the latter metrics. "
   ]
  },
  {
   "cell_type": "code",
   "execution_count": 2,
   "metadata": {},
   "outputs": [],
   "source": [
    "def compute_metrics(estimator, X_train, y_train, X_test, y_test):\n",
    "    y_pred = estimator.predict(X_train)\n",
    "    print(\"Train metrics:\")\n",
    "    print(\"Accuracy: \", accuracy_score(y_train, y_pred))\n",
    "    print(\"Precision: \", precision_score(y_train, y_pred))\n",
    "    print(\"Recall: \", recall_score(y_train, y_pred))\n",
    "    print(\"F1 score: \", f1_score(y_train, y_pred))\n",
    "    print(\"ROC AUC\", roc_auc_score(y_train, y_pred))\n",
    "    print(\"Cohen Kappa\", cohen_kappa_score(y_train, y_pred))\n",
    "    cm = confusion_matrix(y_train, y_pred)\n",
    "    TN = cm[0][0]\n",
    "    FN = cm[1][0]\n",
    "    TP = cm[1][1]\n",
    "    FP = cm[0][1]\n",
    "    print(\"False Positive Rate: \", (FP / (FP+TN)))\n",
    "    print(\"False Negative Rate: \", (FN / (TP+FN)))\n",
    "    print(\"True Negative Rate (Specificity): \", (TN / (TN+FP)))\n",
    "    y_pred = estimator.predict(X_test)\n",
    "    print(\"\\nTest metrics:\")\n",
    "    print(\"Accuracy: \", accuracy_score(y_test, y_pred))\n",
    "    print(\"Precision: \", precision_score(y_test, y_pred))\n",
    "    print(\"Recall: \", recall_score(y_test, y_pred))\n",
    "    print(\"F1 score: \", f1_score(y_test, y_pred))\n",
    "    print(\"ROC AUC\", roc_auc_score(y_test, y_pred))\n",
    "    print(\"Cohen Kappa\", cohen_kappa_score(y_test, y_pred))\n",
    "    cm = confusion_matrix(y_test, y_pred)\n",
    "    TN = cm[0][0]\n",
    "    FN = cm[1][0]\n",
    "    TP = cm[1][1]\n",
    "    FP = cm[0][1]\n",
    "    print(\"False Positive Rate: \", (FP / (FP+TN)))\n",
    "    print(\"False Negative Rate: \", (FN / (TP+FN)))\n",
    "    print(\"True Negative Rate (Specificity): \", (TN / (TN+FP)))"
   ]
  },
  {
   "cell_type": "code",
   "execution_count": 230,
   "metadata": {},
   "outputs": [
    {
     "name": "stdout",
     "output_type": "stream",
     "text": [
      "Train metrics:\n",
      "Accuracy:  0.8819599109131403\n",
      "Precision:  0.9193154034229829\n",
      "Recall:  0.8374164810690423\n",
      "F1 score:  0.8764568764568764\n",
      "ROC AUC 0.8819599109131403\n",
      "Cohen Kappa 0.7639198218262806\n",
      "False Positive Rate:  0.07349665924276169\n",
      "False Negative Rate:  0.16258351893095768\n",
      "True Negative Rate (Specificity):  0.9265033407572383\n",
      "\n",
      "Test metrics:\n",
      "Accuracy:  0.8268156424581006\n",
      "Precision:  0.8243243243243243\n",
      "Recall:  0.7721518987341772\n",
      "F1 score:  0.7973856209150328\n",
      "ROC AUC 0.8210759493670886\n",
      "Cohen Kappa 0.6464479133482001\n",
      "False Positive Rate:  0.13\n",
      "False Negative Rate:  0.22784810126582278\n",
      "True Negative Rate (Specificity):  0.87\n"
     ]
    }
   ],
   "source": [
    "compute_metrics(model, X_train, y_train, X_test, y_test)"
   ]
  },
  {
   "cell_type": "code",
   "execution_count": 231,
   "metadata": {},
   "outputs": [
    {
     "data": {
      "image/png": "[encoded data removed]",
      "text/plain": [
       "<Figure size 432x288 with 2 Axes>"
      ]
     },
     "metadata": {
      "needs_background": "light"
     },
     "output_type": "display_data"
    }
   ],
   "source": [
    "plot_confusion_matrix(model, X_test, y_test, display_labels = ['Not Survived', 'Survived'], cmap=plt.cm.Blues)#, normalize = 'true')\n",
    "plt.title(\"Confusion Matrix\")\n",
    "plt.show()"
   ]
  },
  {
   "cell_type": "code",
   "execution_count": 226,
   "metadata": {},
   "outputs": [
    {
     "data": {
      "image/png": "[encoded data removed]",
      "text/plain": [
       "<Figure size 432x288 with 1 Axes>"
      ]
     },
     "metadata": {
      "needs_background": "light"
     },
     "output_type": "display_data"
    }
   ],
   "source": [
    "y_pred = model.predict_proba(X_test)[:,1]\n",
    "fpr, tpr, threshold = roc_curve(y_test, y_pred)\n",
    "plt.plot(fpr, tpr, label=\"Random Forest\")\n",
    "plt.plot([0, 1], [0, 1],'r--', label= \"Random\")\n",
    "plt.title(\"ROC Curve and AUC\")\n",
    "plt.ylabel('True Positive Rate')\n",
    "plt.xlabel('False Positive Rate')\n",
    "plt.legend()\n",
    "plt.show()"
   ]
  },
  {
   "cell_type": "markdown",
   "metadata": {},
   "source": [
    "### Titanic model conclusion\n",
    "This is a binary problem, with a lower recall, compared to precision, this means we are pretty sure of those observations marked as survived really survived, but not very good at bringing a lot of possible survives. In other words we are highly penalizing predicting survived when not really survived. \n",
    "Through the metric on accuracy in both train and test we can be confidently that our model is not highly overfitting the data. However our values on the cohen kappa metrics that measure how well our model is compared to random decisiones, in train is quite high but in test is not that high. <br>\n",
    "13% of the time we will false alarm regarding you survived when you did not. And we have an area under the ROC curve of 0.82. As we can observe in the ROC curve our random forest line lies above the random line and more closer to the top left bottom. Below this histogram of the titanic leaderboard, where by automatic imputation and hyperparameter tunning we found ourserlves almost 5% above the median."
   ]
  },
  {
   "cell_type": "code",
   "execution_count": 254,
   "metadata": {},
   "outputs": [
    {
     "data": {
      "image/png": "[encoded data removed]",
      "text/plain": [
       "<Figure size 432x288 with 1 Axes>"
      ]
     },
     "metadata": {
      "needs_background": "light"
     },
     "output_type": "display_data"
    },
    {
     "name": "stdout",
     "output_type": "stream",
     "text": [
      "Median of scores:  0.7703300000000001\n"
     ]
    }
   ],
   "source": [
    "score = pd.read_csv('data/titanic/leaderboard.csv').Score\n",
    "plt.hist(score[score >= 0.6], bins = 25)\n",
    "plt.axvline(0.821, color ='r', linestyle = '--')\n",
    "plt.title(\"Scores of the public leader board Titanic dataset\")\n",
    "plt.xlabel(\"Score AUC\")\n",
    "plt.ylabel(\"Participants\")\n",
    "plt.show()\n",
    "print(\"Median of scores: \", score.median())"
   ]
  },
  {
   "cell_type": "markdown",
   "metadata": {},
   "source": [
    "# Next: churn and fraud will help exemplify Ecce Homo as a tool to build benchmark models and compete aginst them. Will show the importance of feature engineering (performed above) and the easy to implement Machine learning benchmarks with Ecce Homo"
   ]
  },
  {
   "cell_type": "markdown",
   "metadata": {},
   "source": [
    "# Churn dataset\n",
    "In this section we will move forward to the core idea of Ecce Homo application that is automate the machine learning workflow to work as a benchmark so that you can focus on feature engineering tasks, that as shown above are crucial to achieve awsome results (as shown above), however, ecce homo can help develop part of the tasks. For more information visit: https://www.kaggle.com/c/ic20182/overview"
   ]
  },
  {
   "cell_type": "code",
   "execution_count": 15,
   "metadata": {},
   "outputs": [],
   "source": [
    "df = pd.read_csv('data/churn/churn_train.txt')\n",
    "df[\"TotalCharges\"] = pd.to_numeric(df.TotalCharges.str.replace(\" \", \"\"))"
   ]
  },
  {
   "cell_type": "code",
   "execution_count": 373,
   "metadata": {},
   "outputs": [
    {
     "data": {
      "text/html": [
       "<div>\n",
       "<style scoped>\n",
       "    .dataframe tbody tr th:only-of-type {\n",
       "        vertical-align: middle;\n",
       "    }\n",
       "\n",
       "    .dataframe tbody tr th {\n",
       "        vertical-align: top;\n",
       "    }\n",
       "\n",
       "    .dataframe thead th {\n",
       "        text-align: right;\n",
       "    }\n",
       "</style>\n",
       "<table border=\"1\" class=\"dataframe\">\n",
       "  <thead>\n",
       "    <tr style=\"text-align: right;\">\n",
       "      <th></th>\n",
       "      <th>customerID</th>\n",
       "      <th>gender</th>\n",
       "      <th>SeniorCitizen</th>\n",
       "      <th>Partner</th>\n",
       "      <th>Dependents</th>\n",
       "      <th>tenure</th>\n",
       "      <th>PhoneService</th>\n",
       "      <th>MultipleLines</th>\n",
       "      <th>InternetService</th>\n",
       "      <th>OnlineSecurity</th>\n",
       "      <th>...</th>\n",
       "      <th>DeviceProtection</th>\n",
       "      <th>TechSupport</th>\n",
       "      <th>StreamingTV</th>\n",
       "      <th>StreamingMovies</th>\n",
       "      <th>Contract</th>\n",
       "      <th>PaperlessBilling</th>\n",
       "      <th>PaymentMethod</th>\n",
       "      <th>MonthlyCharges</th>\n",
       "      <th>TotalCharges</th>\n",
       "      <th>Churn</th>\n",
       "    </tr>\n",
       "  </thead>\n",
       "  <tbody>\n",
       "    <tr>\n",
       "      <td>0</td>\n",
       "      <td>7590-VHVEG</td>\n",
       "      <td>Female</td>\n",
       "      <td>0</td>\n",
       "      <td>Yes</td>\n",
       "      <td>No</td>\n",
       "      <td>1</td>\n",
       "      <td>No</td>\n",
       "      <td>No phone service</td>\n",
       "      <td>DSL</td>\n",
       "      <td>No</td>\n",
       "      <td>...</td>\n",
       "      <td>No</td>\n",
       "      <td>No</td>\n",
       "      <td>No</td>\n",
       "      <td>No</td>\n",
       "      <td>Month-to-month</td>\n",
       "      <td>Yes</td>\n",
       "      <td>Electronic check</td>\n",
       "      <td>29.85</td>\n",
       "      <td>29.85</td>\n",
       "      <td>No</td>\n",
       "    </tr>\n",
       "    <tr>\n",
       "      <td>1</td>\n",
       "      <td>5575-GNVDE</td>\n",
       "      <td>Male</td>\n",
       "      <td>0</td>\n",
       "      <td>No</td>\n",
       "      <td>No</td>\n",
       "      <td>34</td>\n",
       "      <td>Yes</td>\n",
       "      <td>No</td>\n",
       "      <td>DSL</td>\n",
       "      <td>Yes</td>\n",
       "      <td>...</td>\n",
       "      <td>Yes</td>\n",
       "      <td>No</td>\n",
       "      <td>No</td>\n",
       "      <td>No</td>\n",
       "      <td>One year</td>\n",
       "      <td>No</td>\n",
       "      <td>Mailed check</td>\n",
       "      <td>56.95</td>\n",
       "      <td>1889.50</td>\n",
       "      <td>No</td>\n",
       "    </tr>\n",
       "    <tr>\n",
       "      <td>2</td>\n",
       "      <td>3668-QPYBK</td>\n",
       "      <td>Male</td>\n",
       "      <td>0</td>\n",
       "      <td>No</td>\n",
       "      <td>No</td>\n",
       "      <td>2</td>\n",
       "      <td>Yes</td>\n",
       "      <td>No</td>\n",
       "      <td>DSL</td>\n",
       "      <td>Yes</td>\n",
       "      <td>...</td>\n",
       "      <td>No</td>\n",
       "      <td>No</td>\n",
       "      <td>No</td>\n",
       "      <td>No</td>\n",
       "      <td>Month-to-month</td>\n",
       "      <td>Yes</td>\n",
       "      <td>Mailed check</td>\n",
       "      <td>53.85</td>\n",
       "      <td>108.15</td>\n",
       "      <td>Yes</td>\n",
       "    </tr>\n",
       "    <tr>\n",
       "      <td>3</td>\n",
       "      <td>7795-CFOCW</td>\n",
       "      <td>Male</td>\n",
       "      <td>0</td>\n",
       "      <td>No</td>\n",
       "      <td>No</td>\n",
       "      <td>45</td>\n",
       "      <td>No</td>\n",
       "      <td>No phone service</td>\n",
       "      <td>DSL</td>\n",
       "      <td>Yes</td>\n",
       "      <td>...</td>\n",
       "      <td>Yes</td>\n",
       "      <td>Yes</td>\n",
       "      <td>No</td>\n",
       "      <td>No</td>\n",
       "      <td>One year</td>\n",
       "      <td>No</td>\n",
       "      <td>Bank transfer (automatic)</td>\n",
       "      <td>42.30</td>\n",
       "      <td>1840.75</td>\n",
       "      <td>No</td>\n",
       "    </tr>\n",
       "    <tr>\n",
       "      <td>4</td>\n",
       "      <td>9237-HQITU</td>\n",
       "      <td>Female</td>\n",
       "      <td>0</td>\n",
       "      <td>No</td>\n",
       "      <td>No</td>\n",
       "      <td>2</td>\n",
       "      <td>Yes</td>\n",
       "      <td>No</td>\n",
       "      <td>Fiber optic</td>\n",
       "      <td>No</td>\n",
       "      <td>...</td>\n",
       "      <td>No</td>\n",
       "      <td>No</td>\n",
       "      <td>No</td>\n",
       "      <td>No</td>\n",
       "      <td>Month-to-month</td>\n",
       "      <td>Yes</td>\n",
       "      <td>Electronic check</td>\n",
       "      <td>70.70</td>\n",
       "      <td>151.65</td>\n",
       "      <td>Yes</td>\n",
       "    </tr>\n",
       "  </tbody>\n",
       "</table>\n",
       "<p>5 rows × 21 columns</p>\n",
       "</div>"
      ],
      "text/plain": [
       "   customerID  gender  SeniorCitizen Partner Dependents  tenure PhoneService  \\\n",
       "0  7590-VHVEG  Female              0     Yes         No       1           No   \n",
       "1  5575-GNVDE    Male              0      No         No      34          Yes   \n",
       "2  3668-QPYBK    Male              0      No         No       2          Yes   \n",
       "3  7795-CFOCW    Male              0      No         No      45           No   \n",
       "4  9237-HQITU  Female              0      No         No       2          Yes   \n",
       "\n",
       "      MultipleLines InternetService OnlineSecurity  ... DeviceProtection  \\\n",
       "0  No phone service             DSL             No  ...               No   \n",
       "1                No             DSL            Yes  ...              Yes   \n",
       "2                No             DSL            Yes  ...               No   \n",
       "3  No phone service             DSL            Yes  ...              Yes   \n",
       "4                No     Fiber optic             No  ...               No   \n",
       "\n",
       "  TechSupport StreamingTV StreamingMovies        Contract PaperlessBilling  \\\n",
       "0          No          No              No  Month-to-month              Yes   \n",
       "1          No          No              No        One year               No   \n",
       "2          No          No              No  Month-to-month              Yes   \n",
       "3         Yes          No              No        One year               No   \n",
       "4          No          No              No  Month-to-month              Yes   \n",
       "\n",
       "               PaymentMethod MonthlyCharges  TotalCharges  Churn  \n",
       "0           Electronic check          29.85         29.85     No  \n",
       "1               Mailed check          56.95       1889.50     No  \n",
       "2               Mailed check          53.85        108.15    Yes  \n",
       "3  Bank transfer (automatic)          42.30       1840.75     No  \n",
       "4           Electronic check          70.70        151.65    Yes  \n",
       "\n",
       "[5 rows x 21 columns]"
      ]
     },
     "execution_count": 373,
     "metadata": {},
     "output_type": "execute_result"
    }
   ],
   "source": [
    "df.head(5)"
   ]
  },
  {
   "cell_type": "code",
   "execution_count": 349,
   "metadata": {},
   "outputs": [
    {
     "name": "stdout",
     "output_type": "stream",
     "text": [
      "       SeniorCitizen       tenure  MonthlyCharges  TotalCharges\n",
      "count    5674.000000  5674.000000     5674.000000   5664.000000\n",
      "mean        0.163024    32.532252       64.705684   2298.882283\n",
      "std         0.369420    24.669244       30.276730   2284.787328\n",
      "min         0.000000     0.000000       18.250000     18.800000\n",
      "25%         0.000000     9.000000       34.725000    399.562500\n",
      "50%         0.000000    29.000000       70.350000   1391.400000\n",
      "75%         0.000000    56.000000       89.950000   3828.362500\n",
      "max         1.000000    72.000000      118.750000   8684.800000\n"
     ]
    }
   ],
   "source": [
    "eda = eccehomo.EDA(df, 'Churn', output_path = \"data/churn\")\n",
    "eda.describe(to_print = True)"
   ]
  },
  {
   "cell_type": "code",
   "execution_count": 295,
   "metadata": {},
   "outputs": [
    {
     "name": "stderr",
     "output_type": "stream",
     "text": [
      "/home/mauriciomani/anaconda3/lib/python3.7/site-packages/numpy/lib/histograms.py:898: RuntimeWarning: invalid value encountered in true_divide\n",
      "  return n/db/n.sum(), bin_edges\n"
     ]
    },
    {
     "name": "stdout",
     "output_type": "stream",
     "text": [
      "customerID           0\n",
      "gender               0\n",
      "SeniorCitizen        0\n",
      "Partner              0\n",
      "Dependents           0\n",
      "tenure               0\n",
      "PhoneService         0\n",
      "MultipleLines        0\n",
      "InternetService      0\n",
      "OnlineSecurity       0\n",
      "OnlineBackup         0\n",
      "DeviceProtection     0\n",
      "TechSupport          0\n",
      "StreamingTV          0\n",
      "StreamingMovies      0\n",
      "Contract             0\n",
      "PaperlessBilling     0\n",
      "PaymentMethod        0\n",
      "MonthlyCharges       0\n",
      "TotalCharges        10\n",
      "Churn                0\n",
      "dtype: int64\n"
     ]
    },
    {
     "name": "stderr",
     "output_type": "stream",
     "text": [
      "/home/mauriciomani/anaconda3/lib/python3.7/site-packages/numpy/lib/histograms.py:829: RuntimeWarning: invalid value encountered in greater_equal\n",
      "  keep = (tmp_a >= first_edge)\n",
      "/home/mauriciomani/anaconda3/lib/python3.7/site-packages/numpy/lib/histograms.py:830: RuntimeWarning: invalid value encountered in less_equal\n",
      "  keep &= (tmp_a <= last_edge)\n"
     ]
    },
    {
     "data": {
      "text/plain": [
       "<Figure size 432x288 with 0 Axes>"
      ]
     },
     "metadata": {},
     "output_type": "display_data"
    },
    {
     "data": {
      "text/plain": [
       "<Figure size 720x720 with 0 Axes>"
      ]
     },
     "metadata": {},
     "output_type": "display_data"
    }
   ],
   "source": [
    "eda.groupby(aggregators = ['gender' ,\"Partner\" ,\"Dependents\", \"PhoneService\", \"MultipleLines\", \n",
    "                           \"InternetService\", \"OnlineSecurity\", \"OnlineBackup\", \"DeviceProtection\", \n",
    "                           \"TechSupport\", \"StreamingTV\", \"StreamingMovies\", \"Contract\", \"PaperlessBilling\",\n",
    "                           \"PaymentMethod\", \"Churn\"])\n",
    "eda.boxplot(name_string = ['gender', \"MultipleLines\", \"InternetService\"])\n",
    "eda.histograms()\n",
    "eda.empty_values(to_print = True)\n",
    "eda.correlations()\n",
    "eda.barplot()\n",
    "#There is a max column parameter to avoid printing all columns and select random features to plot\n",
    "eda.scatter()\n",
    "eda.make_html(name = 'summary_churn_eda')"
   ]
  },
  {
   "cell_type": "markdown",
   "metadata": {},
   "source": [
    "### Unique values\n",
    "As seen above, our dataset have 10 missing values from 5674 observations as shown in the created summary_churn_eda.html file. Due to the amount of missing data we can just get rid of it, instead of imputing it."
   ]
  },
  {
   "cell_type": "code",
   "execution_count": 16,
   "metadata": {},
   "outputs": [],
   "source": [
    "df.dropna(inplace = True)"
   ]
  },
  {
   "cell_type": "markdown",
   "metadata": {},
   "source": [
    "### Train test split and limits.\n",
    "Ecce homo does not perform any atutomatic enconding, so we hav to call One Hot encoder from sklearn, before train test split to capture all the new labels. Obtining 30 rows in total.\n",
    "After that we are going to delete \"customerID\" from our data and separate our target variable. We are going to make an 80-20 train test split strategy."
   ]
  },
  {
   "cell_type": "code",
   "execution_count": 17,
   "metadata": {},
   "outputs": [],
   "source": [
    "X = df[['gender', 'SeniorCitizen', 'Partner', 'Dependents', 'tenure', 'PhoneService', 'MultipleLines', \n",
    "        'InternetService', 'OnlineSecurity', 'OnlineBackup', 'DeviceProtection', 'TechSupport', \n",
    "        'StreamingTV', 'StreamingMovies', 'Contract', 'PaperlessBilling', 'PaymentMethod', \n",
    "        'MonthlyCharges', 'TotalCharges']]\n",
    "X = pd.get_dummies(X,  drop_first = True)\n",
    "y = (df.Churn == 'Yes').astype(int)\n",
    "X_train, X_test, y_train, y_test = train_test_split(X, y, test_size = 0.2, random_state =12) "
   ]
  },
  {
   "cell_type": "markdown",
   "metadata": {},
   "source": [
    "### Unbalanced dataset\n",
    "We have to balance the dataset because the proportion between those that churn and those that did not is quite high. We are goin to use SMOTEENN to perform this. Wich is a tequnique that uses SMOTE for oversampling and Edited Nearest neighbors together with Tomek links for undersampling, makinf the decision boundaries more clean."
   ]
  },
  {
   "cell_type": "code",
   "execution_count": 18,
   "metadata": {},
   "outputs": [
    {
     "data": {
      "text/plain": [
       "0    4174\n",
       "1    1490\n",
       "Name: Churn, dtype: int64"
      ]
     },
     "execution_count": 18,
     "metadata": {},
     "output_type": "execute_result"
    }
   ],
   "source": [
    "y.value_counts()"
   ]
  },
  {
   "cell_type": "code",
   "execution_count": 22,
   "metadata": {},
   "outputs": [
    {
     "data": {
      "text/plain": [
       "1    1952\n",
       "0    1701\n",
       "Name: Churn, dtype: int64"
      ]
     },
     "execution_count": 22,
     "metadata": {},
     "output_type": "execute_result"
    }
   ],
   "source": [
    "smoteenn = SMOTEENN(random_state=12)\n",
    "X_train, y_train = smoteenn.fit_resample(X_train, y_train)\n",
    "y_train.value_counts()"
   ]
  },
  {
   "cell_type": "markdown",
   "metadata": {},
   "source": [
    "### Scaling\n",
    "Due to the nature of the distribution of the numerical variables, minmax scaling is going to be used."
   ]
  },
  {
   "cell_type": "code",
   "execution_count": 23,
   "metadata": {},
   "outputs": [],
   "source": [
    "minmax = MinMaxScaler().fit(X_train)\n",
    "X_train = minmax.transform(X_train)\n",
    "X_test = minmax.transform(X_test)"
   ]
  },
  {
   "cell_type": "markdown",
   "metadata": {},
   "source": [
    "### Automatic Hyperparameter Tunning\n",
    "As seen above, ecce homo can perform auotomatic hyperparameter tunning through bayesian optimization. Because of the nature of the dataset, tree based models, will perform better, because splitting will be easier."
   ]
  },
  {
   "cell_type": "code",
   "execution_count": 24,
   "metadata": {},
   "outputs": [
    {
     "name": "stdout",
     "output_type": "stream",
     "text": [
      "|   iter    |  target   | learni... | max_depth | min_sa... | min_sa... | n_esti... |\n",
      "-------------------------------------------------------------------------------------\n",
      "| \u001b[0m 1       \u001b[0m | \u001b[0m 0.9508  \u001b[0m | \u001b[0m 0.03168 \u001b[0m | \u001b[0m 222.5   \u001b[0m | \u001b[0m 7.32    \u001b[0m | \u001b[0m 14.28   \u001b[0m | \u001b[0m 14.23   \u001b[0m |\n",
      "| \u001b[95m 2       \u001b[0m | \u001b[95m 0.957   \u001b[0m | \u001b[95m 0.1838  \u001b[0m | \u001b[95m 270.4   \u001b[0m | \u001b[95m 1.802   \u001b[0m | \u001b[95m 24.01   \u001b[0m | \u001b[95m 49.79   \u001b[0m |\n",
      "| \u001b[0m 3       \u001b[0m | \u001b[0m 0.9462  \u001b[0m | \u001b[0m 0.05748 \u001b[0m | \u001b[0m 182.6   \u001b[0m | \u001b[0m 23.66   \u001b[0m | \u001b[0m 21.61   \u001b[0m | \u001b[0m 10.66   \u001b[0m |\n",
      "| \u001b[95m 4       \u001b[0m | \u001b[95m 0.958   \u001b[0m | \u001b[95m 0.1047  \u001b[0m | \u001b[95m 166.5   \u001b[0m | \u001b[95m 12.65   \u001b[0m | \u001b[95m 19.67   \u001b[0m | \u001b[95m 56.61   \u001b[0m |\n",
      "| \u001b[95m 5       \u001b[0m | \u001b[95m 0.9652  \u001b[0m | \u001b[95m 0.1531  \u001b[0m | \u001b[95m 8.201   \u001b[0m | \u001b[95m 4.245   \u001b[0m | \u001b[95m 4.674   \u001b[0m | \u001b[95m 99.87   \u001b[0m |\n",
      "| \u001b[0m 6       \u001b[0m | \u001b[0m 0.9585  \u001b[0m | \u001b[0m 0.1306  \u001b[0m | \u001b[0m 256.9   \u001b[0m | \u001b[0m 15.23   \u001b[0m | \u001b[0m 3.062   \u001b[0m | \u001b[0m 299.3   \u001b[0m |\n",
      "| \u001b[95m 7       \u001b[0m | \u001b[95m 0.9652  \u001b[0m | \u001b[95m 0.1196  \u001b[0m | \u001b[95m 3.168   \u001b[0m | \u001b[95m 1.166   \u001b[0m | \u001b[95m 20.21   \u001b[0m | \u001b[95m 291.7   \u001b[0m |\n",
      "| \u001b[0m 8       \u001b[0m | \u001b[0m 0.9483  \u001b[0m | \u001b[0m 0.08373 \u001b[0m | \u001b[0m 5.113   \u001b[0m | \u001b[0m 2.148   \u001b[0m | \u001b[0m 24.73   \u001b[0m | \u001b[0m 16.99   \u001b[0m |\n",
      "| \u001b[0m 9       \u001b[0m | \u001b[0m 0.939   \u001b[0m | \u001b[0m 0.03666 \u001b[0m | \u001b[0m 127.9   \u001b[0m | \u001b[0m 1.662   \u001b[0m | \u001b[0m 2.605   \u001b[0m | \u001b[0m 185.8   \u001b[0m |\n",
      "| \u001b[0m 10      \u001b[0m | \u001b[0m 0.9616  \u001b[0m | \u001b[0m 0.1914  \u001b[0m | \u001b[0m 297.9   \u001b[0m | \u001b[0m 23.87   \u001b[0m | \u001b[0m 4.302   \u001b[0m | \u001b[0m 155.1   \u001b[0m |\n",
      "| \u001b[0m 11      \u001b[0m | \u001b[0m 0.9616  \u001b[0m | \u001b[0m 0.07504 \u001b[0m | \u001b[0m 297.4   \u001b[0m | \u001b[0m 16.72   \u001b[0m | \u001b[0m 23.12   \u001b[0m | \u001b[0m 292.0   \u001b[0m |\n",
      "| \u001b[0m 12      \u001b[0m | \u001b[0m 0.9595  \u001b[0m | \u001b[0m 0.02902 \u001b[0m | \u001b[0m 5.05    \u001b[0m | \u001b[0m 24.64   \u001b[0m | \u001b[0m 24.56   \u001b[0m | \u001b[0m 188.4   \u001b[0m |\n",
      "| \u001b[0m 13      \u001b[0m | \u001b[0m 0.958   \u001b[0m | \u001b[0m 0.0296  \u001b[0m | \u001b[0m 3.142   \u001b[0m | \u001b[0m 24.61   \u001b[0m | \u001b[0m 3.019   \u001b[0m | \u001b[0m 300.0   \u001b[0m |\n",
      "| \u001b[0m 14      \u001b[0m | \u001b[0m 0.9488  \u001b[0m | \u001b[0m 0.1911  \u001b[0m | \u001b[0m 299.3   \u001b[0m | \u001b[0m 1.135   \u001b[0m | \u001b[0m 8.102   \u001b[0m | \u001b[0m 280.3   \u001b[0m |\n",
      "| \u001b[0m 15      \u001b[0m | \u001b[0m 0.9503  \u001b[0m | \u001b[0m 0.1773  \u001b[0m | \u001b[0m 298.5   \u001b[0m | \u001b[0m 23.32   \u001b[0m | \u001b[0m 4.894   \u001b[0m | \u001b[0m 15.53   \u001b[0m |\n",
      "| \u001b[0m 16      \u001b[0m | \u001b[0m 0.959   \u001b[0m | \u001b[0m 0.0615  \u001b[0m | \u001b[0m 299.2   \u001b[0m | \u001b[0m 23.83   \u001b[0m | \u001b[0m 4.941   \u001b[0m | \u001b[0m 297.5   \u001b[0m |\n",
      "| \u001b[95m 17      \u001b[0m | \u001b[95m 0.9657  \u001b[0m | \u001b[95m 0.1576  \u001b[0m | \u001b[95m 3.746   \u001b[0m | \u001b[95m 1.725   \u001b[0m | \u001b[95m 23.66   \u001b[0m | \u001b[95m 293.2   \u001b[0m |\n",
      "| \u001b[0m 18      \u001b[0m | \u001b[0m 0.9616  \u001b[0m | \u001b[0m 0.1624  \u001b[0m | \u001b[0m 245.4   \u001b[0m | \u001b[0m 24.31   \u001b[0m | \u001b[0m 21.6    \u001b[0m | \u001b[0m 106.4   \u001b[0m |\n",
      "| \u001b[0m 19      \u001b[0m | \u001b[0m 0.96    \u001b[0m | \u001b[0m 0.1511  \u001b[0m | \u001b[0m 174.1   \u001b[0m | \u001b[0m 21.75   \u001b[0m | \u001b[0m 23.8    \u001b[0m | \u001b[0m 295.0   \u001b[0m |\n",
      "| \u001b[0m 20      \u001b[0m | \u001b[0m 0.9611  \u001b[0m | \u001b[0m 0.1555  \u001b[0m | \u001b[0m 15.43   \u001b[0m | \u001b[0m 1.018   \u001b[0m | \u001b[0m 24.37   \u001b[0m | \u001b[0m 123.0   \u001b[0m |\n",
      "| \u001b[0m 21      \u001b[0m | \u001b[0m 0.9303  \u001b[0m | \u001b[0m 0.005333\u001b[0m | \u001b[0m 4.141   \u001b[0m | \u001b[0m 20.17   \u001b[0m | \u001b[0m 4.711   \u001b[0m | \u001b[0m 75.08   \u001b[0m |\n",
      "| \u001b[0m 22      \u001b[0m | \u001b[0m 0.9472  \u001b[0m | \u001b[0m 0.02268 \u001b[0m | \u001b[0m 120.4   \u001b[0m | \u001b[0m 1.654   \u001b[0m | \u001b[0m 2.299   \u001b[0m | \u001b[0m 10.02   \u001b[0m |\n",
      "| \u001b[0m 23      \u001b[0m | \u001b[0m 0.9621  \u001b[0m | \u001b[0m 0.07049 \u001b[0m | \u001b[0m 9.357   \u001b[0m | \u001b[0m 1.597   \u001b[0m | \u001b[0m 7.429   \u001b[0m | \u001b[0m 223.4   \u001b[0m |\n",
      "| \u001b[0m 24      \u001b[0m | \u001b[0m 0.9585  \u001b[0m | \u001b[0m 0.05422 \u001b[0m | \u001b[0m 257.0   \u001b[0m | \u001b[0m 23.54   \u001b[0m | \u001b[0m 24.76   \u001b[0m | \u001b[0m 228.3   \u001b[0m |\n",
      "| \u001b[0m 25      \u001b[0m | \u001b[0m 0.9539  \u001b[0m | \u001b[0m 0.0511  \u001b[0m | \u001b[0m 299.8   \u001b[0m | \u001b[0m 24.45   \u001b[0m | \u001b[0m 24.22   \u001b[0m | \u001b[0m 73.75   \u001b[0m |\n",
      "| \u001b[95m 26      \u001b[0m | \u001b[95m 0.9672  \u001b[0m | \u001b[95m 0.145   \u001b[0m | \u001b[95m 5.808   \u001b[0m | \u001b[95m 4.142   \u001b[0m | \u001b[95m 3.786   \u001b[0m | \u001b[95m 168.2   \u001b[0m |\n",
      "| \u001b[0m 27      \u001b[0m | \u001b[0m 0.938   \u001b[0m | \u001b[0m 0.06908 \u001b[0m | \u001b[0m 217.5   \u001b[0m | \u001b[0m 1.57    \u001b[0m | \u001b[0m 2.401   \u001b[0m | \u001b[0m 117.6   \u001b[0m |\n",
      "| \u001b[0m 28      \u001b[0m | \u001b[0m 0.9447  \u001b[0m | \u001b[0m 0.002188\u001b[0m | \u001b[0m 47.94   \u001b[0m | \u001b[0m 24.49   \u001b[0m | \u001b[0m 24.04   \u001b[0m | \u001b[0m 299.1   \u001b[0m |\n",
      "| \u001b[0m 29      \u001b[0m | \u001b[0m 0.9611  \u001b[0m | \u001b[0m 0.1613  \u001b[0m | \u001b[0m 298.2   \u001b[0m | \u001b[0m 24.96   \u001b[0m | \u001b[0m 24.37   \u001b[0m | \u001b[0m 188.6   \u001b[0m |\n",
      "| \u001b[0m 30      \u001b[0m | \u001b[0m 0.9539  \u001b[0m | \u001b[0m 0.04577 \u001b[0m | \u001b[0m 88.97   \u001b[0m | \u001b[0m 1.15    \u001b[0m | \u001b[0m 24.55   \u001b[0m | \u001b[0m 49.17   \u001b[0m |\n",
      "| \u001b[0m 31      \u001b[0m | \u001b[0m 0.957   \u001b[0m | \u001b[0m 0.08771 \u001b[0m | \u001b[0m 154.0   \u001b[0m | \u001b[0m 24.07   \u001b[0m | \u001b[0m 23.6    \u001b[0m | \u001b[0m 132.0   \u001b[0m |\n",
      "| \u001b[0m 32      \u001b[0m | \u001b[0m 0.9611  \u001b[0m | \u001b[0m 0.124   \u001b[0m | \u001b[0m 2.658   \u001b[0m | \u001b[0m 14.8    \u001b[0m | \u001b[0m 24.45   \u001b[0m | \u001b[0m 268.5   \u001b[0m |\n",
      "| \u001b[0m 33      \u001b[0m | \u001b[0m 0.9611  \u001b[0m | \u001b[0m 0.084   \u001b[0m | \u001b[0m 255.2   \u001b[0m | \u001b[0m 24.97   \u001b[0m | \u001b[0m 24.93   \u001b[0m | \u001b[0m 299.2   \u001b[0m |\n",
      "| \u001b[0m 34      \u001b[0m | \u001b[0m 0.9462  \u001b[0m | \u001b[0m 0.1119  \u001b[0m | \u001b[0m 290.6   \u001b[0m | \u001b[0m 10.27   \u001b[0m | \u001b[0m 24.92   \u001b[0m | \u001b[0m 10.93   \u001b[0m |\n",
      "| \u001b[0m 35      \u001b[0m | \u001b[0m 0.9611  \u001b[0m | \u001b[0m 0.0514  \u001b[0m | \u001b[0m 186.0   \u001b[0m | \u001b[0m 24.89   \u001b[0m | \u001b[0m 2.45    \u001b[0m | \u001b[0m 274.5   \u001b[0m |\n",
      "| \u001b[0m 36      \u001b[0m | \u001b[0m 0.939   \u001b[0m | \u001b[0m 0.111   \u001b[0m | \u001b[0m 149.9   \u001b[0m | \u001b[0m 1.188   \u001b[0m | \u001b[0m 2.532   \u001b[0m | \u001b[0m 299.6   \u001b[0m |\n",
      "| \u001b[0m 37      \u001b[0m | \u001b[0m 0.9595  \u001b[0m | \u001b[0m 0.1647  \u001b[0m | \u001b[0m 127.3   \u001b[0m | \u001b[0m 24.49   \u001b[0m | \u001b[0m 25.0    \u001b[0m | \u001b[0m 226.8   \u001b[0m |\n",
      "| \u001b[0m 38      \u001b[0m | \u001b[0m 0.9483  \u001b[0m | \u001b[0m 0.1736  \u001b[0m | \u001b[0m 2.426   \u001b[0m | \u001b[0m 1.158   \u001b[0m | \u001b[0m 2.192   \u001b[0m | \u001b[0m 37.66   \u001b[0m |\n",
      "| \u001b[0m 39      \u001b[0m | \u001b[0m 0.9626  \u001b[0m | \u001b[0m 0.1051  \u001b[0m | \u001b[0m 73.06   \u001b[0m | \u001b[0m 24.66   \u001b[0m | \u001b[0m 2.889   \u001b[0m | \u001b[0m 183.4   \u001b[0m |\n",
      "| \u001b[0m 40      \u001b[0m | \u001b[0m 0.9534  \u001b[0m | \u001b[0m 0.06024 \u001b[0m | \u001b[0m 255.8   \u001b[0m | \u001b[0m 24.29   \u001b[0m | \u001b[0m 2.722   \u001b[0m | \u001b[0m 69.53   \u001b[0m |\n",
      "| \u001b[0m 41      \u001b[0m | \u001b[0m 0.9421  \u001b[0m | \u001b[0m 0.01791 \u001b[0m | \u001b[0m 298.9   \u001b[0m | \u001b[0m 1.682   \u001b[0m | \u001b[0m 2.584   \u001b[0m | \u001b[0m 34.64   \u001b[0m |\n",
      "| \u001b[0m 42      \u001b[0m | \u001b[0m 0.9416  \u001b[0m | \u001b[0m 0.1591  \u001b[0m | \u001b[0m 58.44   \u001b[0m | \u001b[0m 1.979   \u001b[0m | \u001b[0m 4.666   \u001b[0m | \u001b[0m 117.6   \u001b[0m |\n",
      "| \u001b[0m 43      \u001b[0m | \u001b[0m 0.9611  \u001b[0m | \u001b[0m 0.1757  \u001b[0m | \u001b[0m 4.313   \u001b[0m | \u001b[0m 5.709   \u001b[0m | \u001b[0m 6.669   \u001b[0m | \u001b[0m 166.4   \u001b[0m |\n",
      "| \u001b[0m 44      \u001b[0m | \u001b[0m 0.9508  \u001b[0m | \u001b[0m 0.02428 \u001b[0m | \u001b[0m 149.1   \u001b[0m | \u001b[0m 3.267   \u001b[0m | \u001b[0m 24.85   \u001b[0m | \u001b[0m 11.42   \u001b[0m |\n",
      "| \u001b[0m 45      \u001b[0m | \u001b[0m 0.959   \u001b[0m | \u001b[0m 0.1348  \u001b[0m | \u001b[0m 200.9   \u001b[0m | \u001b[0m 25.0    \u001b[0m | \u001b[0m 5.646   \u001b[0m | \u001b[0m 189.3   \u001b[0m |\n",
      "| \u001b[0m 46      \u001b[0m | \u001b[0m 0.957   \u001b[0m | \u001b[0m 0.07277 \u001b[0m | \u001b[0m 10.73   \u001b[0m | \u001b[0m 24.2    \u001b[0m | \u001b[0m 2.476   \u001b[0m | \u001b[0m 206.8   \u001b[0m |\n",
      "| \u001b[0m 47      \u001b[0m | \u001b[0m 0.9611  \u001b[0m | \u001b[0m 0.03059 \u001b[0m | \u001b[0m 294.3   \u001b[0m | \u001b[0m 3.74    \u001b[0m | \u001b[0m 24.64   \u001b[0m | \u001b[0m 153.7   \u001b[0m |\n",
      "| \u001b[0m 48      \u001b[0m | \u001b[0m 0.9575  \u001b[0m | \u001b[0m 0.08124 \u001b[0m | \u001b[0m 270.4   \u001b[0m | \u001b[0m 23.75   \u001b[0m | \u001b[0m 23.06   \u001b[0m | \u001b[0m 152.7   \u001b[0m |\n",
      "| \u001b[0m 49      \u001b[0m | \u001b[0m 0.9554  \u001b[0m | \u001b[0m 0.09026 \u001b[0m | \u001b[0m 215.0   \u001b[0m | \u001b[0m 23.75   \u001b[0m | \u001b[0m 23.27   \u001b[0m | \u001b[0m 71.88   \u001b[0m |\n",
      "| \u001b[0m 50      \u001b[0m | \u001b[0m 0.9605  \u001b[0m | \u001b[0m 0.1393  \u001b[0m | \u001b[0m 5.654   \u001b[0m | \u001b[0m 1.068   \u001b[0m | \u001b[0m 23.9    \u001b[0m | \u001b[0m 90.49   \u001b[0m |\n",
      "| \u001b[0m 51      \u001b[0m | \u001b[0m 0.9498  \u001b[0m | \u001b[0m 0.008695\u001b[0m | \u001b[0m 53.08   \u001b[0m | \u001b[0m 19.71   \u001b[0m | \u001b[0m 24.17   \u001b[0m | \u001b[0m 206.0   \u001b[0m |\n",
      "| \u001b[0m 52      \u001b[0m | \u001b[0m 0.9631  \u001b[0m | \u001b[0m 0.1668  \u001b[0m | \u001b[0m 199.2   \u001b[0m | \u001b[0m 24.81   \u001b[0m | \u001b[0m 24.01   \u001b[0m | \u001b[0m 225.9   \u001b[0m |\n",
      "| \u001b[0m 53      \u001b[0m | \u001b[0m 0.959   \u001b[0m | \u001b[0m 0.08326 \u001b[0m | \u001b[0m 125.7   \u001b[0m | \u001b[0m 24.38   \u001b[0m | \u001b[0m 3.565   \u001b[0m | \u001b[0m 184.3   \u001b[0m |\n",
      "| \u001b[0m 54      \u001b[0m | \u001b[0m 0.96    \u001b[0m | \u001b[0m 0.181   \u001b[0m | \u001b[0m 205.2   \u001b[0m | \u001b[0m 24.67   \u001b[0m | \u001b[0m 2.369   \u001b[0m | \u001b[0m 298.7   \u001b[0m |\n",
      "| \u001b[0m 55      \u001b[0m | \u001b[0m 0.958   \u001b[0m | \u001b[0m 0.0372  \u001b[0m | \u001b[0m 295.5   \u001b[0m | \u001b[0m 24.07   \u001b[0m | \u001b[0m 5.784   \u001b[0m | \u001b[0m 246.6   \u001b[0m |\n",
      "=====================================================================================\n",
      "Final result: {'target': 0.9672096530920061, 'params': {'learning_rate': 0.1449889703087841, 'max_depth': 5.808014299165242, 'min_samples_leaf': 4.141761079805183, 'min_samples_split': 3.7858997110297787, 'n_estimators': 168.21964497601238}}\n"
     ]
    }
   ],
   "source": [
    "model = eccehomo.Modeling(X_train, y_train, algo = \"GradientBoostingTree\", iter = 50, scoring='recall').optimize()"
   ]
  },
  {
   "cell_type": "code",
   "execution_count": 25,
   "metadata": {},
   "outputs": [
    {
     "name": "stdout",
     "output_type": "stream",
     "text": [
      "Train metrics:\n",
      "Accuracy:  1.0\n",
      "Precision:  1.0\n",
      "Recall:  1.0\n",
      "F1 score:  1.0\n",
      "ROC AUC 1.0\n",
      "Cohen Kappa 1.0\n",
      "False Positive Rate:  0.0\n",
      "False Negative Rate:  0.0\n",
      "True Negative Rate (Specificity):  1.0\n",
      "\n",
      "Test metrics:\n",
      "Accuracy:  0.7493380406001765\n",
      "Precision:  0.5106888361045131\n",
      "Recall:  0.7337883959044369\n",
      "F1 score:  0.6022408963585434\n",
      "ROC AUC 0.7442751503331708\n",
      "Cohen Kappa 0.4277126433510715\n",
      "False Positive Rate:  0.24523809523809523\n",
      "False Negative Rate:  0.26621160409556316\n",
      "True Negative Rate (Specificity):  0.7547619047619047\n"
     ]
    }
   ],
   "source": [
    "compute_metrics(model, X_train, y_train, X_test, y_test)"
   ]
  },
  {
   "cell_type": "code",
   "execution_count": 26,
   "metadata": {},
   "outputs": [
    {
     "data": {
      "image/png": "[encoded data removed]",
      "text/plain": [
       "<Figure size 432x288 with 2 Axes>"
      ]
     },
     "metadata": {
      "needs_background": "light"
     },
     "output_type": "display_data"
    }
   ],
   "source": [
    "plot_confusion_matrix(model, X_test, y_test, display_labels = ['Not Churn', 'Churn'], cmap=plt.cm.Blues, values_format = 'd')#, normalize = 'true')\n",
    "plt.title(\"Confusion Matrix\")\n",
    "plt.show()"
   ]
  },
  {
   "cell_type": "code",
   "execution_count": 27,
   "metadata": {},
   "outputs": [
    {
     "data": {
      "image/png": "[encoded data removed]",
      "text/plain": [
       "<Figure size 432x288 with 1 Axes>"
      ]
     },
     "metadata": {
      "needs_background": "light"
     },
     "output_type": "display_data"
    }
   ],
   "source": [
    "y_pred = model.predict_proba(X_test)[:,1]\n",
    "fpr, tpr, threshold = roc_curve(y_test, y_pred)\n",
    "plt.plot(fpr, tpr, label=\"Gradient Boosting Tree\")\n",
    "plt.plot([0, 1], [0, 1],'r--', label= \"Random\")\n",
    "plt.title(\"ROC Curve and AUC\")\n",
    "plt.ylabel('True Positive Rate')\n",
    "plt.xlabel('False Positive Rate')\n",
    "plt.legend()\n",
    "plt.show()"
   ]
  },
  {
   "cell_type": "markdown",
   "metadata": {},
   "source": [
    "### Churn model conclusion\n",
    "A gradient boosting tree model was optimized using bayesian methods to imrpove recall measure. In other words, we suppose our marketing team has told us, we have unlimited human resources to go through all the churn cases and create actions for each one (or the team is working in a personalized tool once we know customers will churn). Therefore, we want to build a model that brings all the possible churn, in other words, penalized less when failing saying churn and was not really a churn. Obtaining a 0.82 recall on test. Ecce homo might also help us identify when particular algorithm overfit with particular approaches. We have a high amount of false positives (disadvantage of recall), however, it is aligned with our \"business\" strategy. Are Kohen Cappa is very bad and false positive rate is as expected. Our are under the curve on test is way above than random and near the median to the leaderboard. We can also increase our metrics through decresaing our decision threshold, having more false positives, but knowing we are going as deep and extensive as possible.<br>\n",
    "Ecce Homo does not aim to perform feature selection and only has Logistic regression, gradient boosting tree, random forest, and support vector machine with poly kernel. "
   ]
  },
  {
   "cell_type": "code",
   "execution_count": 29,
   "metadata": {},
   "outputs": [
    {
     "data": {
      "image/png": "[encoded data removed]",
      "text/plain": [
       "<Figure size 432x288 with 1 Axes>"
      ]
     },
     "metadata": {
      "needs_background": "light"
     },
     "output_type": "display_data"
    },
    {
     "name": "stdout",
     "output_type": "stream",
     "text": [
      "Median of scores:  0.81921\n"
     ]
    }
   ],
   "source": [
    "score = pd.read_csv('data/churn/leaderboard.csv').Score\n",
    "plt.hist(score, bins = 25)\n",
    "plt.axvline(0.744, color ='r', linestyle = '--')\n",
    "plt.title(\"Scores of the public leader board Titanic dataset\")\n",
    "plt.xlabel(\"Score AUC\")\n",
    "plt.ylabel(\"Participants\")\n",
    "plt.show()\n",
    "print(\"Median of scores: \", score.median())"
   ]
  },
  {
   "cell_type": "markdown",
   "metadata": {},
   "source": [
    "### Fraud \n",
    "In this section, as above, we will perform automatic machine learning workflow tasks. "
   ]
  },
  {
   "cell_type": "code",
   "execution_count": 3,
   "metadata": {},
   "outputs": [],
   "source": [
    "df = pd.read_csv(\"data/fraud/train.csv\")"
   ]
  },
  {
   "cell_type": "code",
   "execution_count": 4,
   "metadata": {},
   "outputs": [
    {
     "data": {
      "text/html": [
       "<div>\n",
       "<style scoped>\n",
       "    .dataframe tbody tr th:only-of-type {\n",
       "        vertical-align: middle;\n",
       "    }\n",
       "\n",
       "    .dataframe tbody tr th {\n",
       "        vertical-align: top;\n",
       "    }\n",
       "\n",
       "    .dataframe thead th {\n",
       "        text-align: right;\n",
       "    }\n",
       "</style>\n",
       "<table border=\"1\" class=\"dataframe\">\n",
       "  <thead>\n",
       "    <tr style=\"text-align: right;\">\n",
       "      <th></th>\n",
       "      <th>ID</th>\n",
       "      <th>LIMIT_BAL</th>\n",
       "      <th>SEX</th>\n",
       "      <th>EDUCATION</th>\n",
       "      <th>MARRIAGE</th>\n",
       "      <th>AGE</th>\n",
       "      <th>PAY_0</th>\n",
       "      <th>PAY_2</th>\n",
       "      <th>PAY_3</th>\n",
       "      <th>PAY_4</th>\n",
       "      <th>...</th>\n",
       "      <th>BILL_AMT4</th>\n",
       "      <th>BILL_AMT5</th>\n",
       "      <th>BILL_AMT6</th>\n",
       "      <th>PAY_AMT1</th>\n",
       "      <th>PAY_AMT2</th>\n",
       "      <th>PAY_AMT3</th>\n",
       "      <th>PAY_AMT4</th>\n",
       "      <th>PAY_AMT5</th>\n",
       "      <th>PAY_AMT6</th>\n",
       "      <th>default payment next month</th>\n",
       "    </tr>\n",
       "  </thead>\n",
       "  <tbody>\n",
       "    <tr>\n",
       "      <td>0</td>\n",
       "      <td>1</td>\n",
       "      <td>20000</td>\n",
       "      <td>2</td>\n",
       "      <td>2</td>\n",
       "      <td>1</td>\n",
       "      <td>24</td>\n",
       "      <td>2</td>\n",
       "      <td>2</td>\n",
       "      <td>-1</td>\n",
       "      <td>-1</td>\n",
       "      <td>...</td>\n",
       "      <td>0</td>\n",
       "      <td>0</td>\n",
       "      <td>0</td>\n",
       "      <td>0</td>\n",
       "      <td>689</td>\n",
       "      <td>0</td>\n",
       "      <td>0</td>\n",
       "      <td>0</td>\n",
       "      <td>0</td>\n",
       "      <td>1</td>\n",
       "    </tr>\n",
       "    <tr>\n",
       "      <td>1</td>\n",
       "      <td>2</td>\n",
       "      <td>120000</td>\n",
       "      <td>2</td>\n",
       "      <td>2</td>\n",
       "      <td>2</td>\n",
       "      <td>26</td>\n",
       "      <td>-1</td>\n",
       "      <td>2</td>\n",
       "      <td>0</td>\n",
       "      <td>0</td>\n",
       "      <td>...</td>\n",
       "      <td>3272</td>\n",
       "      <td>3455</td>\n",
       "      <td>3261</td>\n",
       "      <td>0</td>\n",
       "      <td>1000</td>\n",
       "      <td>1000</td>\n",
       "      <td>1000</td>\n",
       "      <td>0</td>\n",
       "      <td>2000</td>\n",
       "      <td>1</td>\n",
       "    </tr>\n",
       "    <tr>\n",
       "      <td>2</td>\n",
       "      <td>3</td>\n",
       "      <td>90000</td>\n",
       "      <td>2</td>\n",
       "      <td>2</td>\n",
       "      <td>2</td>\n",
       "      <td>34</td>\n",
       "      <td>0</td>\n",
       "      <td>0</td>\n",
       "      <td>0</td>\n",
       "      <td>0</td>\n",
       "      <td>...</td>\n",
       "      <td>14331</td>\n",
       "      <td>14948</td>\n",
       "      <td>15549</td>\n",
       "      <td>1518</td>\n",
       "      <td>1500</td>\n",
       "      <td>1000</td>\n",
       "      <td>1000</td>\n",
       "      <td>1000</td>\n",
       "      <td>5000</td>\n",
       "      <td>0</td>\n",
       "    </tr>\n",
       "    <tr>\n",
       "      <td>3</td>\n",
       "      <td>4</td>\n",
       "      <td>50000</td>\n",
       "      <td>2</td>\n",
       "      <td>2</td>\n",
       "      <td>1</td>\n",
       "      <td>37</td>\n",
       "      <td>0</td>\n",
       "      <td>0</td>\n",
       "      <td>0</td>\n",
       "      <td>0</td>\n",
       "      <td>...</td>\n",
       "      <td>28314</td>\n",
       "      <td>28959</td>\n",
       "      <td>29547</td>\n",
       "      <td>2000</td>\n",
       "      <td>2019</td>\n",
       "      <td>1200</td>\n",
       "      <td>1100</td>\n",
       "      <td>1069</td>\n",
       "      <td>1000</td>\n",
       "      <td>0</td>\n",
       "    </tr>\n",
       "    <tr>\n",
       "      <td>4</td>\n",
       "      <td>5</td>\n",
       "      <td>50000</td>\n",
       "      <td>1</td>\n",
       "      <td>2</td>\n",
       "      <td>1</td>\n",
       "      <td>57</td>\n",
       "      <td>-1</td>\n",
       "      <td>0</td>\n",
       "      <td>-1</td>\n",
       "      <td>0</td>\n",
       "      <td>...</td>\n",
       "      <td>20940</td>\n",
       "      <td>19146</td>\n",
       "      <td>19131</td>\n",
       "      <td>2000</td>\n",
       "      <td>36681</td>\n",
       "      <td>10000</td>\n",
       "      <td>9000</td>\n",
       "      <td>689</td>\n",
       "      <td>679</td>\n",
       "      <td>0</td>\n",
       "    </tr>\n",
       "  </tbody>\n",
       "</table>\n",
       "<p>5 rows × 25 columns</p>\n",
       "</div>"
      ],
      "text/plain": [
       "   ID  LIMIT_BAL  SEX  EDUCATION  MARRIAGE  AGE  PAY_0  PAY_2  PAY_3  PAY_4  \\\n",
       "0   1      20000    2          2         1   24      2      2     -1     -1   \n",
       "1   2     120000    2          2         2   26     -1      2      0      0   \n",
       "2   3      90000    2          2         2   34      0      0      0      0   \n",
       "3   4      50000    2          2         1   37      0      0      0      0   \n",
       "4   5      50000    1          2         1   57     -1      0     -1      0   \n",
       "\n",
       "   ...  BILL_AMT4  BILL_AMT5  BILL_AMT6  PAY_AMT1  PAY_AMT2  PAY_AMT3  \\\n",
       "0  ...          0          0          0         0       689         0   \n",
       "1  ...       3272       3455       3261         0      1000      1000   \n",
       "2  ...      14331      14948      15549      1518      1500      1000   \n",
       "3  ...      28314      28959      29547      2000      2019      1200   \n",
       "4  ...      20940      19146      19131      2000     36681     10000   \n",
       "\n",
       "   PAY_AMT4  PAY_AMT5  PAY_AMT6  default payment next month  \n",
       "0         0         0         0                           1  \n",
       "1      1000         0      2000                           1  \n",
       "2      1000      1000      5000                           0  \n",
       "3      1100      1069      1000                           0  \n",
       "4      9000       689       679                           0  \n",
       "\n",
       "[5 rows x 25 columns]"
      ]
     },
     "execution_count": 4,
     "metadata": {},
     "output_type": "execute_result"
    }
   ],
   "source": [
    "df.head(5)"
   ]
  },
  {
   "cell_type": "code",
   "execution_count": 5,
   "metadata": {},
   "outputs": [
    {
     "name": "stdout",
     "output_type": "stream",
     "text": [
      "                 ID       LIMIT_BAL           SEX     EDUCATION      MARRIAGE  \\\n",
      "count  20001.000000    20001.000000  20001.000000  20001.000000  20001.000000   \n",
      "mean   10001.000000   163304.018799      1.614069      1.836908      1.556622   \n",
      "std     5773.935703   128744.108770      0.486827      0.769545      0.522787   \n",
      "min        1.000000    10000.000000      1.000000      0.000000      0.000000   \n",
      "25%     5001.000000    50000.000000      1.000000      1.000000      1.000000   \n",
      "50%    10001.000000   130000.000000      2.000000      2.000000      2.000000   \n",
      "75%    15001.000000   230000.000000      2.000000      2.000000      2.000000   \n",
      "max    20001.000000  1000000.000000      2.000000      6.000000      3.000000   \n",
      "\n",
      "                AGE         PAY_0         PAY_2         PAY_3         PAY_4  \\\n",
      "count  20001.000000  20001.000000  20001.000000  20001.000000  20001.000000   \n",
      "mean      35.333633      0.021399     -0.104245     -0.136343     -0.197390   \n",
      "std        9.210588      1.121090      1.204111      1.210644      1.168048   \n",
      "min       21.000000     -2.000000     -2.000000     -2.000000     -2.000000   \n",
      "25%       28.000000     -1.000000     -1.000000     -1.000000     -1.000000   \n",
      "50%       34.000000      0.000000      0.000000      0.000000      0.000000   \n",
      "75%       41.000000      0.000000      0.000000      0.000000      0.000000   \n",
      "max       79.000000      8.000000      8.000000      8.000000      8.000000   \n",
      "\n",
      "       ...      BILL_AMT4      BILL_AMT5      BILL_AMT6       PAY_AMT1  \\\n",
      "count  ...   20001.000000   20001.000000   20001.000000   20001.000000   \n",
      "mean   ...   41464.059897   39524.787011   38174.017399    5520.876606   \n",
      "std    ...   61659.714833   59308.443549   58706.228511   15250.017631   \n",
      "min    ... -170000.000000  -37594.000000 -339603.000000       0.000000   \n",
      "25%    ...    2310.000000    1719.000000    1194.000000     968.000000   \n",
      "50%    ...   18889.000000   18131.000000   16990.000000    2084.000000   \n",
      "75%    ...   51123.000000   49529.000000   48671.000000    5000.000000   \n",
      "max    ...  891586.000000  927171.000000  961664.000000  505000.000000   \n",
      "\n",
      "           PAY_AMT2       PAY_AMT3       PAY_AMT4       PAY_AMT5  \\\n",
      "count  2.000100e+04   20001.000000   20001.000000   20001.000000   \n",
      "mean   5.746525e+03    4734.856357    4725.653067    4758.804710   \n",
      "std    2.151814e+04   15823.004270   15180.095816   15446.983557   \n",
      "min    0.000000e+00       0.000000       0.000000       0.000000   \n",
      "25%    7.410000e+02     322.000000     238.000000     216.000000   \n",
      "50%    2.000000e+03    1594.000000    1497.000000    1500.000000   \n",
      "75%    5.000000e+03    4056.000000    4000.000000    4000.000000   \n",
      "max    1.684259e+06  896040.000000  497000.000000  417990.000000   \n",
      "\n",
      "            PAY_AMT6  default payment next month  \n",
      "count   20001.000000                20001.000000  \n",
      "mean     5080.420879                    0.227939  \n",
      "std     17306.428381                    0.419513  \n",
      "min         0.000000                    0.000000  \n",
      "25%        10.000000                    0.000000  \n",
      "50%      1407.000000                    0.000000  \n",
      "75%      4000.000000                    0.000000  \n",
      "max    528666.000000                    1.000000  \n",
      "\n",
      "[8 rows x 25 columns]\n"
     ]
    }
   ],
   "source": [
    "eda = eccehomo.EDA(df, 'default payment next month', output_path = \"data/fraud\")\n",
    "eda.describe(to_print = True)"
   ]
  },
  {
   "cell_type": "code",
   "execution_count": 422,
   "metadata": {},
   "outputs": [
    {
     "name": "stdout",
     "output_type": "stream",
     "text": [
      "ID                            0\n",
      "LIMIT_BAL                     0\n",
      "SEX                           0\n",
      "EDUCATION                     0\n",
      "MARRIAGE                      0\n",
      "AGE                           0\n",
      "PAY_0                         0\n",
      "PAY_2                         0\n",
      "PAY_3                         0\n",
      "PAY_4                         0\n",
      "PAY_5                         0\n",
      "PAY_6                         0\n",
      "BILL_AMT1                     0\n",
      "BILL_AMT2                     0\n",
      "BILL_AMT3                     0\n",
      "BILL_AMT4                     0\n",
      "BILL_AMT5                     0\n",
      "BILL_AMT6                     0\n",
      "PAY_AMT1                      0\n",
      "PAY_AMT2                      0\n",
      "PAY_AMT3                      0\n",
      "PAY_AMT4                      0\n",
      "PAY_AMT5                      0\n",
      "PAY_AMT6                      0\n",
      "default payment next month    0\n",
      "dtype: int64\n"
     ]
    },
    {
     "data": {
      "text/plain": [
       "<Figure size 432x288 with 0 Axes>"
      ]
     },
     "metadata": {},
     "output_type": "display_data"
    }
   ],
   "source": [
    "eda.groupby(aggregators =['SEX', 'EDUCATION', 'MARRIAGE', 'default payment next month'])\n",
    "eda.histograms()\n",
    "eda.empty_values(to_print = True)\n",
    "eda.correlations()\n",
    "#There is a max column parameter to avoid printing all columns and select random features to plot\n",
    "eda.make_html(name = 'summary_fraud_eda')"
   ]
  },
  {
   "cell_type": "markdown",
   "metadata": {},
   "source": [
    "### NULL values and variable encoding\n",
    "There are no null values in the dataset but accoriding to dataset information \"SEX\", \"EDUCATION\" and \"MARRIAGE\" should be one hot encoding. They are managed as categorical integers, but, as in the churn dataset the unit between categories might not explain the magnitude of changes "
   ]
  },
  {
   "cell_type": "code",
   "execution_count": 6,
   "metadata": {},
   "outputs": [],
   "source": [
    "X = pd.get_dummies(df.drop([\"ID\", \"default payment next month\"], axis = 1),  drop_first = True)\n",
    "y = df[\"default payment next month\"]\n",
    "X_train, X_test, y_train, y_test = train_test_split(X, y, test_size = 0.2, random_state =12) "
   ]
  },
  {
   "cell_type": "code",
   "execution_count": 7,
   "metadata": {},
   "outputs": [
    {
     "name": "stderr",
     "output_type": "stream",
     "text": [
      "/home/mauriciomani/anaconda3/lib/python3.7/site-packages/ipykernel_launcher.py:1: SettingWithCopyWarning: \n",
      "A value is trying to be set on a copy of a slice from a DataFrame.\n",
      "Try using .loc[row_indexer,col_indexer] = value instead\n",
      "\n",
      "See the caveats in the documentation: http://pandas.pydata.org/pandas-docs/stable/user_guide/indexing.html#returning-a-view-versus-a-copy\n",
      "  \"\"\"Entry point for launching an IPython kernel.\n"
     ]
    }
   ],
   "source": [
    "X_train['y'] = y_train \n",
    "X = eccehomo.Outlier(X_train).isolation_forest(max_outliers = 1000)\n",
    "y_train = X.y\n",
    "X_train = X.drop('y', axis = 1)"
   ]
  },
  {
   "cell_type": "code",
   "execution_count": 8,
   "metadata": {},
   "outputs": [
    {
     "data": {
      "text/plain": [
       "0    11213\n",
       "1     3343\n",
       "Name: y, dtype: int64"
      ]
     },
     "execution_count": 8,
     "metadata": {},
     "output_type": "execute_result"
    }
   ],
   "source": [
    "y_train.value_counts()"
   ]
  },
  {
   "cell_type": "code",
   "execution_count": 9,
   "metadata": {},
   "outputs": [
    {
     "data": {
      "text/plain": [
       "1    11213\n",
       "0    11213\n",
       "Name: y, dtype: int64"
      ]
     },
     "execution_count": 9,
     "metadata": {},
     "output_type": "execute_result"
    }
   ],
   "source": [
    "smote = SMOTE(random_state=12)\n",
    "X_train, y_train = smote.fit_resample(X_train, y_train)\n",
    "y_train.value_counts()"
   ]
  },
  {
   "cell_type": "code",
   "execution_count": 10,
   "metadata": {},
   "outputs": [],
   "source": [
    "minmax = MinMaxScaler().fit(X_train)\n",
    "X_train = minmax.transform(X_train)\n",
    "X_test = minmax.transform(X_test)"
   ]
  },
  {
   "cell_type": "code",
   "execution_count": 11,
   "metadata": {},
   "outputs": [
    {
     "name": "stdout",
     "output_type": "stream",
     "text": [
      "|   iter    |  target   | max_depth | max_le... | min_sa... | min_sa... | n_esti... |\n",
      "-------------------------------------------------------------------------------------\n",
      "| \u001b[0m 1       \u001b[0m | \u001b[0m 0.7614  \u001b[0m | \u001b[0m 47.94   \u001b[0m | \u001b[0m 19.02   \u001b[0m | \u001b[0m 7.32    \u001b[0m | \u001b[0m 14.28   \u001b[0m | \u001b[0m 13.5    \u001b[0m |\n",
      "| \u001b[95m 2       \u001b[0m | \u001b[95m 0.7766  \u001b[0m | \u001b[95m 275.8   \u001b[0m | \u001b[95m 22.72   \u001b[0m | \u001b[95m 1.802   \u001b[0m | \u001b[95m 24.01   \u001b[0m | \u001b[95m 42.93   \u001b[0m |\n",
      "| \u001b[0m 3       \u001b[0m | \u001b[0m 0.7469  \u001b[0m | \u001b[0m 86.58   \u001b[0m | \u001b[0m 15.94   \u001b[0m | \u001b[0m 23.66   \u001b[0m | \u001b[0m 21.61   \u001b[0m | \u001b[0m 10.54   \u001b[0m |\n",
      "| \u001b[0m 4       \u001b[0m | \u001b[0m 0.7731  \u001b[0m | \u001b[0m 157.3   \u001b[0m | \u001b[0m 14.7    \u001b[0m | \u001b[0m 12.65   \u001b[0m | \u001b[0m 19.67   \u001b[0m | \u001b[0m 48.57   \u001b[0m |\n",
      "| \u001b[0m 5       \u001b[0m | \u001b[0m 0.7598  \u001b[0m | \u001b[0m 229.8   \u001b[0m | \u001b[0m 2.479   \u001b[0m | \u001b[0m 4.245   \u001b[0m | \u001b[0m 4.674   \u001b[0m | \u001b[0m 84.38   \u001b[0m |\n",
      "| \u001b[95m 6       \u001b[0m | \u001b[95m 0.7787  \u001b[0m | \u001b[95m 2.0     \u001b[0m | \u001b[95m 25.0    \u001b[0m | \u001b[95m 4.528   \u001b[0m | \u001b[95m 25.0    \u001b[0m | \u001b[95m 250.0   \u001b[0m |\n",
      "| \u001b[0m 7       \u001b[0m | \u001b[0m 0.7749  \u001b[0m | \u001b[0m 266.6   \u001b[0m | \u001b[0m 24.1    \u001b[0m | \u001b[0m 3.11    \u001b[0m | \u001b[0m 23.94   \u001b[0m | \u001b[0m 249.6   \u001b[0m |\n",
      "| \u001b[0m 8       \u001b[0m | \u001b[0m 0.7771  \u001b[0m | \u001b[0m 158.5   \u001b[0m | \u001b[0m 18.87   \u001b[0m | \u001b[0m 12.71   \u001b[0m | \u001b[0m 17.37   \u001b[0m | \u001b[0m 50.18   \u001b[0m |\n",
      "| \u001b[0m 9       \u001b[0m | \u001b[0m 0.7763  \u001b[0m | \u001b[0m 141.8   \u001b[0m | \u001b[0m 24.93   \u001b[0m | \u001b[0m 4.107   \u001b[0m | \u001b[0m 24.87   \u001b[0m | \u001b[0m 149.6   \u001b[0m |\n",
      "| \u001b[0m 10      \u001b[0m | \u001b[0m 0.7721  \u001b[0m | \u001b[0m 143.7   \u001b[0m | \u001b[0m 19.25   \u001b[0m | \u001b[0m 5.944   \u001b[0m | \u001b[0m 3.549   \u001b[0m | \u001b[0m 248.9   \u001b[0m |\n",
      "| \u001b[0m 11      \u001b[0m | \u001b[0m 0.7628  \u001b[0m | \u001b[0m 187.8   \u001b[0m | \u001b[0m 24.45   \u001b[0m | \u001b[0m 2.06    \u001b[0m | \u001b[0m 23.21   \u001b[0m | \u001b[0m 12.38   \u001b[0m |\n",
      "| \u001b[0m 12      \u001b[0m | \u001b[0m 0.767   \u001b[0m | \u001b[0m 6.042   \u001b[0m | \u001b[0m 12.13   \u001b[0m | \u001b[0m 22.08   \u001b[0m | \u001b[0m 2.081   \u001b[0m | \u001b[0m 138.6   \u001b[0m |\n",
      "| \u001b[0m 13      \u001b[0m | \u001b[0m 0.775   \u001b[0m | \u001b[0m 295.7   \u001b[0m | \u001b[0m 24.39   \u001b[0m | \u001b[0m 24.95   \u001b[0m | \u001b[0m 2.973   \u001b[0m | \u001b[0m 131.5   \u001b[0m |\n",
      "| \u001b[0m 14      \u001b[0m | \u001b[0m 0.7638  \u001b[0m | \u001b[0m 298.6   \u001b[0m | \u001b[0m 21.1    \u001b[0m | \u001b[0m 17.15   \u001b[0m | \u001b[0m 2.413   \u001b[0m | \u001b[0m 14.63   \u001b[0m |\n",
      "| \u001b[0m 15      \u001b[0m | \u001b[0m 0.7748  \u001b[0m | \u001b[0m 297.5   \u001b[0m | \u001b[0m 21.37   \u001b[0m | \u001b[0m 21.79   \u001b[0m | \u001b[0m 2.172   \u001b[0m | \u001b[0m 134.4   \u001b[0m |\n",
      "| \u001b[0m 16      \u001b[0m | \u001b[0m 0.7775  \u001b[0m | \u001b[0m 63.72   \u001b[0m | \u001b[0m 24.42   \u001b[0m | \u001b[0m 1.84    \u001b[0m | \u001b[0m 3.968   \u001b[0m | \u001b[0m 76.61   \u001b[0m |\n",
      "| \u001b[0m 17      \u001b[0m | \u001b[0m 0.7751  \u001b[0m | \u001b[0m 62.41   \u001b[0m | \u001b[0m 20.58   \u001b[0m | \u001b[0m 2.466   \u001b[0m | \u001b[0m 2.92    \u001b[0m | \u001b[0m 77.12   \u001b[0m |\n",
      "| \u001b[0m 18      \u001b[0m | \u001b[0m 0.7541  \u001b[0m | \u001b[0m 293.8   \u001b[0m | \u001b[0m 6.019   \u001b[0m | \u001b[0m 24.67   \u001b[0m | \u001b[0m 21.7    \u001b[0m | \u001b[0m 230.9   \u001b[0m |\n",
      "| \u001b[0m 19      \u001b[0m | \u001b[0m 0.7772  \u001b[0m | \u001b[0m 2.715   \u001b[0m | \u001b[0m 19.6    \u001b[0m | \u001b[0m 1.085   \u001b[0m | \u001b[0m 22.24   \u001b[0m | \u001b[0m 100.8   \u001b[0m |\n",
      "| \u001b[0m 20      \u001b[0m | \u001b[0m 0.7762  \u001b[0m | \u001b[0m 5.329   \u001b[0m | \u001b[0m 2.875   \u001b[0m | \u001b[0m 3.437   \u001b[0m | \u001b[0m 11.25   \u001b[0m | \u001b[0m 244.2   \u001b[0m |\n",
      "| \u001b[0m 21      \u001b[0m | \u001b[0m 0.7747  \u001b[0m | \u001b[0m 292.3   \u001b[0m | \u001b[0m 24.93   \u001b[0m | \u001b[0m 4.461   \u001b[0m | \u001b[0m 3.559   \u001b[0m | \u001b[0m 229.0   \u001b[0m |\n",
      "| \u001b[95m 22      \u001b[0m | \u001b[95m 0.7806  \u001b[0m | \u001b[95m 2.909   \u001b[0m | \u001b[95m 23.0    \u001b[0m | \u001b[95m 1.193   \u001b[0m | \u001b[95m 5.679   \u001b[0m | \u001b[95m 234.6   \u001b[0m |\n",
      "| \u001b[0m 23      \u001b[0m | \u001b[0m 0.7751  \u001b[0m | \u001b[0m 296.2   \u001b[0m | \u001b[0m 21.59   \u001b[0m | \u001b[0m 4.61    \u001b[0m | \u001b[0m 24.85   \u001b[0m | \u001b[0m 122.1   \u001b[0m |\n",
      "| \u001b[0m 24      \u001b[0m | \u001b[0m 0.7765  \u001b[0m | \u001b[0m 173.0   \u001b[0m | \u001b[0m 24.78   \u001b[0m | \u001b[0m 4.826   \u001b[0m | \u001b[0m 3.086   \u001b[0m | \u001b[0m 94.56   \u001b[0m |\n",
      "| \u001b[0m 25      \u001b[0m | \u001b[0m 0.7753  \u001b[0m | \u001b[0m 36.24   \u001b[0m | \u001b[0m 24.68   \u001b[0m | \u001b[0m 23.8    \u001b[0m | \u001b[0m 2.617   \u001b[0m | \u001b[0m 241.4   \u001b[0m |\n",
      "| \u001b[0m 26      \u001b[0m | \u001b[0m 0.7801  \u001b[0m | \u001b[0m 8.496   \u001b[0m | \u001b[0m 24.42   \u001b[0m | \u001b[0m 3.705   \u001b[0m | \u001b[0m 3.662   \u001b[0m | \u001b[0m 36.44   \u001b[0m |\n",
      "| \u001b[0m 27      \u001b[0m | \u001b[0m 0.7723  \u001b[0m | \u001b[0m 7.152   \u001b[0m | \u001b[0m 18.34   \u001b[0m | \u001b[0m 1.227   \u001b[0m | \u001b[0m 6.274   \u001b[0m | \u001b[0m 236.8   \u001b[0m |\n",
      "| \u001b[0m 28      \u001b[0m | \u001b[0m 0.7744  \u001b[0m | \u001b[0m 196.0   \u001b[0m | \u001b[0m 22.58   \u001b[0m | \u001b[0m 22.16   \u001b[0m | \u001b[0m 8.1     \u001b[0m | \u001b[0m 237.1   \u001b[0m |\n",
      "| \u001b[0m 29      \u001b[0m | \u001b[0m 0.7764  \u001b[0m | \u001b[0m 2.969   \u001b[0m | \u001b[0m 2.776   \u001b[0m | \u001b[0m 20.09   \u001b[0m | \u001b[0m 2.639   \u001b[0m | \u001b[0m 248.1   \u001b[0m |\n",
      "| \u001b[0m 30      \u001b[0m | \u001b[0m 0.7756  \u001b[0m | \u001b[0m 210.9   \u001b[0m | \u001b[0m 23.99   \u001b[0m | \u001b[0m 24.8    \u001b[0m | \u001b[0m 22.36   \u001b[0m | \u001b[0m 102.6   \u001b[0m |\n",
      "| \u001b[0m 31      \u001b[0m | \u001b[0m 0.7757  \u001b[0m | \u001b[0m 137.9   \u001b[0m | \u001b[0m 24.48   \u001b[0m | \u001b[0m 6.229   \u001b[0m | \u001b[0m 23.68   \u001b[0m | \u001b[0m 151.3   \u001b[0m |\n",
      "| \u001b[0m 32      \u001b[0m | \u001b[0m 0.7791  \u001b[0m | \u001b[0m 141.4   \u001b[0m | \u001b[0m 24.79   \u001b[0m | \u001b[0m 6.257   \u001b[0m | \u001b[0m 23.69   \u001b[0m | \u001b[0m 66.78   \u001b[0m |\n",
      "| \u001b[0m 33      \u001b[0m | \u001b[0m 0.774   \u001b[0m | \u001b[0m 126.3   \u001b[0m | \u001b[0m 21.55   \u001b[0m | \u001b[0m 24.97   \u001b[0m | \u001b[0m 24.93   \u001b[0m | \u001b[0m 249.3   \u001b[0m |\n",
      "| \u001b[0m 34      \u001b[0m | \u001b[0m 0.7583  \u001b[0m | \u001b[0m 2.715   \u001b[0m | \u001b[0m 2.277   \u001b[0m | \u001b[0m 6.38    \u001b[0m | \u001b[0m 8.691   \u001b[0m | \u001b[0m 59.21   \u001b[0m |\n",
      "| \u001b[0m 35      \u001b[0m | \u001b[0m 0.7788  \u001b[0m | \u001b[0m 299.8   \u001b[0m | \u001b[0m 23.72   \u001b[0m | \u001b[0m 1.729   \u001b[0m | \u001b[0m 10.24   \u001b[0m | \u001b[0m 62.56   \u001b[0m |\n",
      "| \u001b[0m 36      \u001b[0m | \u001b[0m 0.7794  \u001b[0m | \u001b[0m 289.7   \u001b[0m | \u001b[0m 24.39   \u001b[0m | \u001b[0m 24.79   \u001b[0m | \u001b[0m 17.44   \u001b[0m | \u001b[0m 66.19   \u001b[0m |\n",
      "| \u001b[0m 37      \u001b[0m | \u001b[0m 0.775   \u001b[0m | \u001b[0m 4.126   \u001b[0m | \u001b[0m 21.86   \u001b[0m | \u001b[0m 18.47   \u001b[0m | \u001b[0m 22.92   \u001b[0m | \u001b[0m 198.9   \u001b[0m |\n",
      "| \u001b[0m 38      \u001b[0m | \u001b[0m 0.7761  \u001b[0m | \u001b[0m 133.7   \u001b[0m | \u001b[0m 24.59   \u001b[0m | \u001b[0m 23.86   \u001b[0m | \u001b[0m 5.034   \u001b[0m | \u001b[0m 93.08   \u001b[0m |\n",
      "| \u001b[95m 39      \u001b[0m | \u001b[95m 0.7811  \u001b[0m | \u001b[95m 5.615   \u001b[0m | \u001b[95m 24.2    \u001b[0m | \u001b[95m 1.811   \u001b[0m | \u001b[95m 5.913   \u001b[0m | \u001b[95m 137.3   \u001b[0m |\n",
      "| \u001b[0m 40      \u001b[0m | \u001b[0m 0.7757  \u001b[0m | \u001b[0m 2.692   \u001b[0m | \u001b[0m 24.66   \u001b[0m | \u001b[0m 2.224   \u001b[0m | \u001b[0m 5.657   \u001b[0m | \u001b[0m 57.34   \u001b[0m |\n",
      "| \u001b[0m 41      \u001b[0m | \u001b[0m 0.775   \u001b[0m | \u001b[0m 280.9   \u001b[0m | \u001b[0m 24.35   \u001b[0m | \u001b[0m 20.54   \u001b[0m | \u001b[0m 4.844   \u001b[0m | \u001b[0m 248.3   \u001b[0m |\n",
      "| \u001b[0m 42      \u001b[0m | \u001b[0m 0.7323  \u001b[0m | \u001b[0m 3.641   \u001b[0m | \u001b[0m 24.57   \u001b[0m | \u001b[0m 6.509   \u001b[0m | \u001b[0m 24.63   \u001b[0m | \u001b[0m 10.86   \u001b[0m |\n",
      "| \u001b[0m 43      \u001b[0m | \u001b[0m 0.7774  \u001b[0m | \u001b[0m 152.6   \u001b[0m | \u001b[0m 19.3    \u001b[0m | \u001b[0m 12.51   \u001b[0m | \u001b[0m 19.84   \u001b[0m | \u001b[0m 50.04   \u001b[0m |\n",
      "| \u001b[0m 44      \u001b[0m | \u001b[0m 0.7737  \u001b[0m | \u001b[0m 145.7   \u001b[0m | \u001b[0m 24.67   \u001b[0m | \u001b[0m 4.199   \u001b[0m | \u001b[0m 2.639   \u001b[0m | \u001b[0m 27.24   \u001b[0m |\n",
      "| \u001b[0m 45      \u001b[0m | \u001b[0m 0.7608  \u001b[0m | \u001b[0m 249.3   \u001b[0m | \u001b[0m 3.245   \u001b[0m | \u001b[0m 1.141   \u001b[0m | \u001b[0m 3.085   \u001b[0m | \u001b[0m 246.1   \u001b[0m |\n",
      "| \u001b[0m 46      \u001b[0m | \u001b[0m 0.7768  \u001b[0m | \u001b[0m 298.9   \u001b[0m | \u001b[0m 2.564   \u001b[0m | \u001b[0m 13.51   \u001b[0m | \u001b[0m 22.47   \u001b[0m | \u001b[0m 30.71   \u001b[0m |\n",
      "| \u001b[0m 47      \u001b[0m | \u001b[0m 0.7768  \u001b[0m | \u001b[0m 46.31   \u001b[0m | \u001b[0m 24.56   \u001b[0m | \u001b[0m 3.74    \u001b[0m | \u001b[0m 24.64   \u001b[0m | \u001b[0m 128.9   \u001b[0m |\n",
      "| \u001b[0m 48      \u001b[0m | \u001b[0m 0.7742  \u001b[0m | \u001b[0m 205.6   \u001b[0m | \u001b[0m 23.85   \u001b[0m | \u001b[0m 1.428   \u001b[0m | \u001b[0m 21.22   \u001b[0m | \u001b[0m 248.4   \u001b[0m |\n",
      "| \u001b[0m 49      \u001b[0m | \u001b[0m 0.7794  \u001b[0m | \u001b[0m 189.1   \u001b[0m | \u001b[0m 24.66   \u001b[0m | \u001b[0m 19.99   \u001b[0m | \u001b[0m 9.293   \u001b[0m | \u001b[0m 53.37   \u001b[0m |\n",
      "| \u001b[0m 50      \u001b[0m | \u001b[0m 0.7792  \u001b[0m | \u001b[0m 2.756   \u001b[0m | \u001b[0m 23.32   \u001b[0m | \u001b[0m 4.55    \u001b[0m | \u001b[0m 6.015   \u001b[0m | \u001b[0m 137.9   \u001b[0m |\n",
      "| \u001b[0m 51      \u001b[0m | \u001b[0m 0.7746  \u001b[0m | \u001b[0m 120.4   \u001b[0m | \u001b[0m 24.89   \u001b[0m | \u001b[0m 22.03   \u001b[0m | \u001b[0m 6.628   \u001b[0m | \u001b[0m 211.4   \u001b[0m |\n",
      "| \u001b[0m 52      \u001b[0m | \u001b[0m 0.7783  \u001b[0m | \u001b[0m 193.3   \u001b[0m | \u001b[0m 23.03   \u001b[0m | \u001b[0m 20.63   \u001b[0m | \u001b[0m 8.571   \u001b[0m | \u001b[0m 55.48   \u001b[0m |\n",
      "| \u001b[0m 53      \u001b[0m | \u001b[0m 0.7743  \u001b[0m | \u001b[0m 7.221   \u001b[0m | \u001b[0m 21.7    \u001b[0m | \u001b[0m 2.67    \u001b[0m | \u001b[0m 2.321   \u001b[0m | \u001b[0m 137.9   \u001b[0m |\n",
      "| \u001b[0m 54      \u001b[0m | \u001b[0m 0.7775  \u001b[0m | \u001b[0m 22.47   \u001b[0m | \u001b[0m 24.07   \u001b[0m | \u001b[0m 22.06   \u001b[0m | \u001b[0m 2.715   \u001b[0m | \u001b[0m 35.13   \u001b[0m |\n",
      "| \u001b[0m 55      \u001b[0m | \u001b[0m 0.7763  \u001b[0m | \u001b[0m 298.4   \u001b[0m | \u001b[0m 24.04   \u001b[0m | \u001b[0m 13.01   \u001b[0m | \u001b[0m 24.71   \u001b[0m | \u001b[0m 32.64   \u001b[0m |\n",
      "=====================================================================================\n",
      "Final result: {'target': 0.7810892456114151, 'params': {'max_depth': 5.614713684277523, 'max_leaf_nodes': 24.2030245726576, 'min_samples_leaf': 1.8112531976218555, 'min_samples_split': 5.913225182552813, 'n_estimators': 137.32544008297037}}\n"
     ]
    }
   ],
   "source": [
    "model = eccehomo.Modeling(X_train, y_train, algo = \"RandomForest\", iter = 50, scoring='precision').optimize()"
   ]
  },
  {
   "cell_type": "code",
   "execution_count": 12,
   "metadata": {},
   "outputs": [
    {
     "name": "stdout",
     "output_type": "stream",
     "text": [
      "Train metrics:\n",
      "Accuracy:  0.7432890395077143\n",
      "Precision:  0.7896581015077511\n",
      "Recall:  0.6632480156960671\n",
      "F1 score:  0.7209539043187435\n",
      "ROC AUC 0.7432890395077141\n",
      "Cohen Kappa 0.4865780790154285\n",
      "False Positive Rate:  0.17666993668063855\n",
      "False Negative Rate:  0.33675198430393294\n",
      "True Negative Rate (Specificity):  0.8233300633193614\n",
      "\n",
      "Test metrics:\n",
      "Accuracy:  0.7640589852536865\n",
      "Precision:  0.49109653233364575\n",
      "Recall:  0.5664864864864865\n",
      "F1 score:  0.5261044176706827\n",
      "ROC AUC 0.6949792640494852\n",
      "Cohen Kappa 0.3700938052135059\n",
      "False Positive Rate:  0.17652795838751625\n",
      "False Negative Rate:  0.4335135135135135\n",
      "True Negative Rate (Specificity):  0.8234720416124838\n"
     ]
    }
   ],
   "source": [
    "compute_metrics(model, X_train, y_train, X_test, y_test)"
   ]
  },
  {
   "cell_type": "code",
   "execution_count": 13,
   "metadata": {},
   "outputs": [
    {
     "data": {
      "image/png": "[encoded data removed]",
      "text/plain": [
       "<Figure size 432x288 with 2 Axes>"
      ]
     },
     "metadata": {
      "needs_background": "light"
     },
     "output_type": "display_data"
    }
   ],
   "source": [
    "plot_confusion_matrix(model, X_test, y_test, display_labels = ['Not Churn', 'Churn'], cmap=plt.cm.Blues, values_format = 'd')#, normalize = 'true')\n",
    "plt.title(\"Confusion Matrix\")\n",
    "plt.show()"
   ]
  },
  {
   "cell_type": "code",
   "execution_count": 14,
   "metadata": {},
   "outputs": [
    {
     "data": {
      "image/png": "[encoded data removed]",
      "text/plain": [
       "<Figure size 432x288 with 1 Axes>"
      ]
     },
     "metadata": {
      "needs_background": "light"
     },
     "output_type": "display_data"
    }
   ],
   "source": [
    "y_pred = model.predict_proba(X_test)[:,1]\n",
    "fpr, tpr, threshold = roc_curve(y_test, y_pred)\n",
    "plt.plot(fpr, tpr, label=\"Random Forest\")\n",
    "plt.plot([0, 1], [0, 1],'r--', label= \"Random\")\n",
    "plt.title(\"ROC Curve and AUC\")\n",
    "plt.ylabel('True Positive Rate')\n",
    "plt.xlabel('False Positive Rate')\n",
    "plt.legend()\n",
    "plt.show()"
   ]
  },
  {
   "cell_type": "markdown",
   "metadata": {},
   "source": [
    "### Conclusions on fraud dataset\n",
    "We want or fraud detection to be very precise (since for example, we do not have enough personnel to perform all tasks), however confusion matrix results are not as expected, haing a lot of false positives and false negatives."
   ]
  }
 ],
 "metadata": {
  "kernelspec": {
   "display_name": "Python 3",
   "language": "python",
   "name": "python3"
  },
  "language_info": {
   "codemirror_mode": {
    "name": "ipython",
    "version": 3
   },
   "file_extension": ".py",
   "mimetype": "text/x-python",
   "name": "python",
   "nbconvert_exporter": "python",
   "pygments_lexer": "ipython3",
   "version": "3.7.4"
  }
 },
 "nbformat": 4,
 "nbformat_minor": 4
}
